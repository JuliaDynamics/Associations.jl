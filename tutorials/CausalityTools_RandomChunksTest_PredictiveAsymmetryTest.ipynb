{
 "cells": [
  {
   "cell_type": "markdown",
   "metadata": {},
   "source": [
    "## `RandomSequencesTest` with `PredictiveAsymmetryTest`"
   ]
  },
  {
   "cell_type": "code",
   "execution_count": 44,
   "metadata": {},
   "outputs": [],
   "source": [
    "using UncertainData, CausalityTools, Plots, Distributions, Test, StatsBase"
   ]
  },
  {
   "cell_type": "markdown",
   "metadata": {},
   "source": [
    "## Example system\n",
    "\n",
    "Let's use a nonlinearly coupled 3D system to generate time series. "
   ]
  },
  {
   "cell_type": "code",
   "execution_count": 45,
   "metadata": {},
   "outputs": [
    {
     "name": "stdout",
     "output_type": "stream",
     "text": [
      "search: \u001b[0m\u001b[1mn\u001b[22m\u001b[0m\u001b[1mo\u001b[22m\u001b[0m\u001b[1mn\u001b[22m\u001b[0m\u001b[1ml\u001b[22m\u001b[0m\u001b[1mi\u001b[22m\u001b[0m\u001b[1mn\u001b[22m\u001b[0m\u001b[1me\u001b[22m\u001b[0m\u001b[1ma\u001b[22m\u001b[0m\u001b[1mr\u001b[22m\u001b[0m\u001b[1m3\u001b[22m\u001b[0m\u001b[1md\u001b[22m eom_\u001b[0m\u001b[1mn\u001b[22m\u001b[0m\u001b[1mo\u001b[22m\u001b[0m\u001b[1mn\u001b[22m\u001b[0m\u001b[1ml\u001b[22m\u001b[0m\u001b[1mi\u001b[22m\u001b[0m\u001b[1mn\u001b[22m\u001b[0m\u001b[1me\u001b[22m\u001b[0m\u001b[1ma\u001b[22m\u001b[0m\u001b[1mr\u001b[22m\u001b[0m\u001b[1m3\u001b[22m\u001b[0m\u001b[1md\u001b[22m ra\u001b[0m\u001b[1mn\u001b[22md\u001b[0m\u001b[1mo\u001b[22mm_\u001b[0m\u001b[1mn\u001b[22mon\u001b[0m\u001b[1ml\u001b[22m\u001b[0m\u001b[1mi\u001b[22m\u001b[0m\u001b[1mn\u001b[22m\u001b[0m\u001b[1me\u001b[22m\u001b[0m\u001b[1ma\u001b[22m\u001b[0m\u001b[1mr\u001b[22m\u001b[0m\u001b[1m3\u001b[22m\u001b[0m\u001b[1md\u001b[22m\n",
      "\n"
     ]
    },
    {
     "data": {
      "text/latex": [
       "\\begin{verbatim}\n",
       "nonlinear3d(;uᵢ = rand(3), \n",
       "    σ₁ = 1.0, σ₂ = 1.0, σ₃ = 1.0, \n",
       "    a₁ = 3.4, a₂ = 3.4, a₃ = 3.4, \n",
       "    b₁ = 0.4, b₂ = 0.4, b₃ = 0.4, \n",
       "    c₁₂ = 0.5, c₂₃ = 0.3, c₁₃ = 0.5) -> DiscreteDynamicalSystem\n",
       "\\end{verbatim}\n",
       "A 3d nonlinear system with nonlinear couplings $x_1 \\to x_2$,  $x_2 \\to x_3$ and $x_1 \\to x_3$. Modified from [1]. \n",
       "\n",
       "\\subsection{Equations of motion}\n",
       "The equations of motion are\n",
       "\n",
       "$$\\begin{aligned}\n",
       "x_1(t+1) &= a_1 x_1 (1-x_1(t))^2  e^{-x_2(t)^2} + 0.4 \\xi_{1}(t) \\\\\n",
       "x_2(t+1) &= a_1 x_2 (1-x_2(t))^2  e^{-x_2(t)^2} + 0.4 \\xi_{2}(t) + b x_1 x_2 \\\\\n",
       "x_3(t+1) &= a_3 x_3 (1-x_3(t))^2  e^{-x_3(t)^2} + 0.4 \\xi_{3}(t) + c x_{2}(t) + d x_{1}(t)^2.\n",
       "\\end{aligned}$$\n",
       "\\subsection{References}\n",
       "\\begin{itemize}\n",
       "\\item[1. ] Gourévitch, B., Le Bouquin-Jeannès, R., \\& Faucon, G. (2006). Linear and nonlinear   causality between signals: methods, examples and neurophysiological   applications. Biological Cybernetics, 95(4), 349–369.\n",
       "\n",
       "\\end{itemize}\n"
      ],
      "text/markdown": [
       "```\n",
       "nonlinear3d(;uᵢ = rand(3), \n",
       "    σ₁ = 1.0, σ₂ = 1.0, σ₃ = 1.0, \n",
       "    a₁ = 3.4, a₂ = 3.4, a₃ = 3.4, \n",
       "    b₁ = 0.4, b₂ = 0.4, b₃ = 0.4, \n",
       "    c₁₂ = 0.5, c₂₃ = 0.3, c₁₃ = 0.5) -> DiscreteDynamicalSystem\n",
       "```\n",
       "\n",
       "A 3d nonlinear system with nonlinear couplings $x_1 \\to x_2$,  $x_2 \\to x_3$ and $x_1 \\to x_3$. Modified from [1]. \n",
       "\n",
       "## Equations of motion\n",
       "\n",
       "The equations of motion are\n",
       "\n",
       "$$\n",
       "\\begin{aligned}\n",
       "x_1(t+1) &= a_1 x_1 (1-x_1(t))^2  e^{-x_2(t)^2} + 0.4 \\xi_{1}(t) \\\\\n",
       "x_2(t+1) &= a_1 x_2 (1-x_2(t))^2  e^{-x_2(t)^2} + 0.4 \\xi_{2}(t) + b x_1 x_2 \\\\\n",
       "x_3(t+1) &= a_3 x_3 (1-x_3(t))^2  e^{-x_3(t)^2} + 0.4 \\xi_{3}(t) + c x_{2}(t) + d x_{1}(t)^2.\n",
       "\\end{aligned}\n",
       "$$\n",
       "\n",
       "## References\n",
       "\n",
       "1. Gourévitch, B., Le Bouquin-Jeannès, R., & Faucon, G. (2006). Linear and nonlinear   causality between signals: methods, examples and neurophysiological   applications. Biological Cybernetics, 95(4), 349–369.\n"
      ],
      "text/plain": [
       "\u001b[36m  nonlinear3d(;uᵢ = rand(3), \u001b[39m\n",
       "\u001b[36m      σ₁ = 1.0, σ₂ = 1.0, σ₃ = 1.0, \u001b[39m\n",
       "\u001b[36m      a₁ = 3.4, a₂ = 3.4, a₃ = 3.4, \u001b[39m\n",
       "\u001b[36m      b₁ = 0.4, b₂ = 0.4, b₃ = 0.4, \u001b[39m\n",
       "\u001b[36m      c₁₂ = 0.5, c₂₃ = 0.3, c₁₃ = 0.5) -> DiscreteDynamicalSystem\u001b[39m\n",
       "\n",
       "  A 3d nonlinear system with nonlinear couplings \u001b[35mx_1 \\to x_2\u001b[39m, \u001b[35mx_2 \\to x_3\u001b[39m and\n",
       "  \u001b[35mx_1 \\to x_3\u001b[39m. Modified from [1]. \n",
       "\n",
       "\u001b[1m  Equations of motion\u001b[22m\n",
       "\u001b[1m  =====================\u001b[22m\n",
       "\n",
       "  The equations of motion are\n",
       "\n",
       "\u001b[35m\\begin{aligned}\u001b[39m\n",
       "\u001b[35mx_1(t+1) &= a_1 x_1 (1-x_1(t))^2  e^{-x_2(t)^2} + 0.4 \\xi_{1}(t) \\\\\u001b[39m\n",
       "\u001b[35mx_2(t+1) &= a_1 x_2 (1-x_2(t))^2  e^{-x_2(t)^2} + 0.4 \\xi_{2}(t) + b x_1 x_2 \\\\\u001b[39m\n",
       "\u001b[35mx_3(t+1) &= a_3 x_3 (1-x_3(t))^2  e^{-x_3(t)^2} + 0.4 \\xi_{3}(t) + c x_{2}(t) + d x_{1}(t)^2.\u001b[39m\n",
       "\u001b[35m\\end{aligned}\u001b[39m\n",
       "\n",
       "\u001b[1m  References\u001b[22m\n",
       "\u001b[1m  ============\u001b[22m\n",
       "\n",
       "    1.   Gourévitch, B., Le Bouquin-Jeannès, R., & Faucon, G. (2006).\n",
       "        Linear and nonlinear causality between signals: methods, examples\n",
       "        and neurophysiological applications. Biological Cybernetics,\n",
       "        95(4), 349–369."
      ]
     },
     "execution_count": 45,
     "metadata": {},
     "output_type": "execute_result"
    }
   ],
   "source": [
    "?nonlinear3d"
   ]
  },
  {
   "cell_type": "markdown",
   "metadata": {},
   "source": [
    "## Randomising parameters\n",
    "\n",
    "Let's generate a function that randomises the parameters for the system."
   ]
  },
  {
   "cell_type": "code",
   "execution_count": 46,
   "metadata": {},
   "outputs": [
    {
     "data": {
      "text/plain": [
       "random_nonlinear3d (generic function with 14 methods)"
      ]
     },
     "execution_count": 46,
     "metadata": {},
     "output_type": "execute_result"
    }
   ],
   "source": [
    "function random_nonlinear3d(;\n",
    "        uᵢ = rand(3),\n",
    "        c₁₂ = 0.5, c₂₃ = 0.3, c₁₃ = 0.5,\n",
    "        σ₁ = rand(Uniform(0.5, 1.0)), σ₂ = rand(Uniform(0.5, 1.0)), σ₃ = rand(Uniform(0.5, 1.0)),\n",
    "        a₁ = rand(Uniform(3.1, 3.8)), a₂ = rand(Uniform(3.1, 3.8)), a₃ = rand(Uniform(3.1, 3.8)),\n",
    "        b₁ = rand(Uniform(0.2, 0.8)), b₂ = rand(Uniform(0.2, 0.8)), b₃ = rand(Uniform(0.2, 0.8)))\n",
    "    \n",
    "    return nonlinear3d(\n",
    "        σ₁ = σ₁, σ₂ = σ₂, σ₃ = σ₃, \n",
    "        a₁ = a₁, a₂ = a₂, a₃ = a₃, \n",
    "        b₁ = b₁, b₂ = b₂, b₃ = b₃, \n",
    "        c₁₂ = c₁₂, c₂₃ = c₁₂, c₁₃ = c₁₂,\n",
    "        uᵢ = uᵢ\n",
    "        )\n",
    "end"
   ]
  },
  {
   "cell_type": "markdown",
   "metadata": {},
   "source": [
    "Now, each time we call `random_nonlinear3d`, we'll get a different dynamical system starting at random initial conditions."
   ]
  },
  {
   "cell_type": "markdown",
   "metadata": {},
   "source": [
    "## Adding uncertainties to the system"
   ]
  },
  {
   "cell_type": "code",
   "execution_count": 48,
   "metadata": {},
   "outputs": [],
   "source": [
    "# Time series length\n",
    "N = 300\n",
    "\n",
    "# Initalise a system\n",
    "sys = random_nonlinear3d(c₁₂ = 0.5)\n",
    "\n",
    "# We'll select the first and second components and add uncertainties \n",
    "# to both the indices and the values.\n",
    "X, Y = example_uncertain_indexvalue_datasets(sys, N, (1, 2), tstep = 5,\n",
    "    d_xval = Uniform(0.001, 0.2), d_yval = Uniform(0.001, 0.2),\n",
    "    d_xind = Uniform(0.001, 2), d_yind = Uniform(0, 2));"
   ]
  },
  {
   "cell_type": "markdown",
   "metadata": {},
   "source": [
    "## Defining causality test"
   ]
  },
  {
   "cell_type": "markdown",
   "metadata": {},
   "source": [
    "First, define a predictive asymmetry test."
   ]
  },
  {
   "cell_type": "code",
   "execution_count": null,
   "metadata": {},
   "outputs": [],
   "source": [
    "k, l, m = 1, 1, 1\n",
    "ηs = -5:5\n",
    "n_subdivs = floor(Int, N^(1/(k + l + m + 1)))\n",
    "te_test = VisitationFrequencyTest(k = k, l = l, m = m, \n",
    "    binning = RectangularBinning(n_subdivs), ηs = ηs)\n",
    "pa_test = PredictiveAsymmetryTest(predictive_test = te_test)"
   ]
  },
  {
   "cell_type": "markdown",
   "metadata": {},
   "source": [
    "Now, decide on how the random chunks should be draws. We'll sample 100 chunks ranging in length from `N-30` to `N-2`."
   ]
  },
  {
   "cell_type": "code",
   "execution_count": 54,
   "metadata": {},
   "outputs": [],
   "source": [
    "r = RandomSequences(100, N-30:N-2);"
   ]
  },
  {
   "cell_type": "markdown",
   "metadata": {},
   "source": [
    "Now, combine the random chunks resampling with our predictive asymmetry causality test."
   ]
  },
  {
   "cell_type": "code",
   "execution_count": 53,
   "metadata": {},
   "outputs": [
    {
     "data": {
      "text/plain": [
       "RandomSequencesTest{PredictiveAsymmetryTest{VisitationFrequencyTest},RandomSequences}(PredictiveAsymmetryTest{VisitationFrequencyTest}(predictive_test = VisitationFrequencyTest(k = 1, l = 1, m = 1, n = 1, τ = 1, b = 2, binning_summary_statistic = mean, estimator = VisitationFrequency(), binning = RectangularBinning(4), ηs = -5:5)), RandomSequences(100, 270:298))"
      ]
     },
     "execution_count": 53,
     "metadata": {},
     "output_type": "execute_result"
    }
   ],
   "source": [
    "test = RandomSequencesTest(pa_test, r)"
   ]
  },
  {
   "cell_type": "markdown",
   "metadata": {},
   "source": [
    "## Perform causality test on random chunks and plot"
   ]
  },
  {
   "cell_type": "markdown",
   "metadata": {},
   "source": [
    "Now, we're ready to perform the causality test."
   ]
  },
  {
   "cell_type": "code",
   "execution_count": 56,
   "metadata": {},
   "outputs": [
    {
     "data": {
      "image/svg+xml": [
       "<?xml version=\"1.0\" encoding=\"utf-8\"?>\n",
       "<svg xmlns=\"http://www.w3.org/2000/svg\" xmlns:xlink=\"http://www.w3.org/1999/xlink\" width=\"600\" height=\"400\" viewBox=\"0 0 2400 1600\">\n",
       "<defs>\n",
       "  <clipPath id=\"clip7900\">\n",
       "    <rect x=\"0\" y=\"0\" width=\"2400\" height=\"1600\"/>\n",
       "  </clipPath>\n",
       "</defs>\n",
       "<path clip-path=\"url(#clip7900)\" d=\"\n",
       "M0 1600 L2400 1600 L2400 0 L0 0  Z\n",
       "  \" fill=\"#ffffff\" fill-rule=\"evenodd\" fill-opacity=\"1\"/>\n",
       "<defs>\n",
       "  <clipPath id=\"clip7901\">\n",
       "    <rect x=\"480\" y=\"0\" width=\"1681\" height=\"1600\"/>\n",
       "  </clipPath>\n",
       "</defs>\n",
       "<path clip-path=\"url(#clip7900)\" d=\"\n",
       "M243.864 1425.62 L2352.76 1425.62 L2352.76 47.2441 L243.864 47.2441  Z\n",
       "  \" fill=\"#ffffff\" fill-rule=\"evenodd\" fill-opacity=\"1\"/>\n",
       "<defs>\n",
       "  <clipPath id=\"clip7902\">\n",
       "    <rect x=\"243\" y=\"47\" width=\"2110\" height=\"1379\"/>\n",
       "  </clipPath>\n",
       "</defs>\n",
       "<polyline clip-path=\"url(#clip7902)\" style=\"stroke:#000000; stroke-width:2; stroke-opacity:0.1; fill:none\" points=\"\n",
       "  303.55,1425.62 303.55,47.2441 \n",
       "  \"/>\n",
       "<polyline clip-path=\"url(#clip7902)\" style=\"stroke:#000000; stroke-width:2; stroke-opacity:0.1; fill:none\" points=\"\n",
       "  800.93,1425.62 800.93,47.2441 \n",
       "  \"/>\n",
       "<polyline clip-path=\"url(#clip7902)\" style=\"stroke:#000000; stroke-width:2; stroke-opacity:0.1; fill:none\" points=\"\n",
       "  1298.31,1425.62 1298.31,47.2441 \n",
       "  \"/>\n",
       "<polyline clip-path=\"url(#clip7902)\" style=\"stroke:#000000; stroke-width:2; stroke-opacity:0.1; fill:none\" points=\"\n",
       "  1795.69,1425.62 1795.69,47.2441 \n",
       "  \"/>\n",
       "<polyline clip-path=\"url(#clip7902)\" style=\"stroke:#000000; stroke-width:2; stroke-opacity:0.1; fill:none\" points=\"\n",
       "  2293.07,1425.62 2293.07,47.2441 \n",
       "  \"/>\n",
       "<polyline clip-path=\"url(#clip7902)\" style=\"stroke:#000000; stroke-width:2; stroke-opacity:0.1; fill:none\" points=\"\n",
       "  243.864,1294.59 2352.76,1294.59 \n",
       "  \"/>\n",
       "<polyline clip-path=\"url(#clip7902)\" style=\"stroke:#000000; stroke-width:2; stroke-opacity:0.1; fill:none\" points=\"\n",
       "  243.864,1068.8 2352.76,1068.8 \n",
       "  \"/>\n",
       "<polyline clip-path=\"url(#clip7902)\" style=\"stroke:#000000; stroke-width:2; stroke-opacity:0.1; fill:none\" points=\"\n",
       "  243.864,843.017 2352.76,843.017 \n",
       "  \"/>\n",
       "<polyline clip-path=\"url(#clip7902)\" style=\"stroke:#000000; stroke-width:2; stroke-opacity:0.1; fill:none\" points=\"\n",
       "  243.864,617.23 2352.76,617.23 \n",
       "  \"/>\n",
       "<polyline clip-path=\"url(#clip7902)\" style=\"stroke:#000000; stroke-width:2; stroke-opacity:0.1; fill:none\" points=\"\n",
       "  243.864,391.442 2352.76,391.442 \n",
       "  \"/>\n",
       "<polyline clip-path=\"url(#clip7902)\" style=\"stroke:#000000; stroke-width:2; stroke-opacity:0.1; fill:none\" points=\"\n",
       "  243.864,165.655 2352.76,165.655 \n",
       "  \"/>\n",
       "<polyline clip-path=\"url(#clip7900)\" style=\"stroke:#000000; stroke-width:4; stroke-opacity:1; fill:none\" points=\"\n",
       "  243.864,1425.62 2352.76,1425.62 \n",
       "  \"/>\n",
       "<polyline clip-path=\"url(#clip7900)\" style=\"stroke:#000000; stroke-width:4; stroke-opacity:1; fill:none\" points=\"\n",
       "  243.864,1425.62 243.864,47.2441 \n",
       "  \"/>\n",
       "<polyline clip-path=\"url(#clip7900)\" style=\"stroke:#000000; stroke-width:4; stroke-opacity:1; fill:none\" points=\"\n",
       "  303.55,1425.62 303.55,1404.94 \n",
       "  \"/>\n",
       "<polyline clip-path=\"url(#clip7900)\" style=\"stroke:#000000; stroke-width:4; stroke-opacity:1; fill:none\" points=\"\n",
       "  800.93,1425.62 800.93,1404.94 \n",
       "  \"/>\n",
       "<polyline clip-path=\"url(#clip7900)\" style=\"stroke:#000000; stroke-width:4; stroke-opacity:1; fill:none\" points=\"\n",
       "  1298.31,1425.62 1298.31,1404.94 \n",
       "  \"/>\n",
       "<polyline clip-path=\"url(#clip7900)\" style=\"stroke:#000000; stroke-width:4; stroke-opacity:1; fill:none\" points=\"\n",
       "  1795.69,1425.62 1795.69,1404.94 \n",
       "  \"/>\n",
       "<polyline clip-path=\"url(#clip7900)\" style=\"stroke:#000000; stroke-width:4; stroke-opacity:1; fill:none\" points=\"\n",
       "  2293.07,1425.62 2293.07,1404.94 \n",
       "  \"/>\n",
       "<polyline clip-path=\"url(#clip7900)\" style=\"stroke:#000000; stroke-width:4; stroke-opacity:1; fill:none\" points=\"\n",
       "  243.864,1294.59 275.498,1294.59 \n",
       "  \"/>\n",
       "<polyline clip-path=\"url(#clip7900)\" style=\"stroke:#000000; stroke-width:4; stroke-opacity:1; fill:none\" points=\"\n",
       "  243.864,1068.8 275.498,1068.8 \n",
       "  \"/>\n",
       "<polyline clip-path=\"url(#clip7900)\" style=\"stroke:#000000; stroke-width:4; stroke-opacity:1; fill:none\" points=\"\n",
       "  243.864,843.017 275.498,843.017 \n",
       "  \"/>\n",
       "<polyline clip-path=\"url(#clip7900)\" style=\"stroke:#000000; stroke-width:4; stroke-opacity:1; fill:none\" points=\"\n",
       "  243.864,617.23 275.498,617.23 \n",
       "  \"/>\n",
       "<polyline clip-path=\"url(#clip7900)\" style=\"stroke:#000000; stroke-width:4; stroke-opacity:1; fill:none\" points=\"\n",
       "  243.864,391.442 275.498,391.442 \n",
       "  \"/>\n",
       "<polyline clip-path=\"url(#clip7900)\" style=\"stroke:#000000; stroke-width:4; stroke-opacity:1; fill:none\" points=\"\n",
       "  243.864,165.655 275.498,165.655 \n",
       "  \"/>\n",
       "<g clip-path=\"url(#clip7900)\">\n",
       "<text style=\"fill:#000000; fill-opacity:1; font-family:Arial,Helvetica Neue,Helvetica,sans-serif; font-size:48px; text-anchor:middle;\" transform=\"rotate(0, 303.55, 1479.62)\" x=\"303.55\" y=\"1479.62\">1</text>\n",
       "</g>\n",
       "<g clip-path=\"url(#clip7900)\">\n",
       "<text style=\"fill:#000000; fill-opacity:1; font-family:Arial,Helvetica Neue,Helvetica,sans-serif; font-size:48px; text-anchor:middle;\" transform=\"rotate(0, 800.93, 1479.62)\" x=\"800.93\" y=\"1479.62\">2</text>\n",
       "</g>\n",
       "<g clip-path=\"url(#clip7900)\">\n",
       "<text style=\"fill:#000000; fill-opacity:1; font-family:Arial,Helvetica Neue,Helvetica,sans-serif; font-size:48px; text-anchor:middle;\" transform=\"rotate(0, 1298.31, 1479.62)\" x=\"1298.31\" y=\"1479.62\">3</text>\n",
       "</g>\n",
       "<g clip-path=\"url(#clip7900)\">\n",
       "<text style=\"fill:#000000; fill-opacity:1; font-family:Arial,Helvetica Neue,Helvetica,sans-serif; font-size:48px; text-anchor:middle;\" transform=\"rotate(0, 1795.69, 1479.62)\" x=\"1795.69\" y=\"1479.62\">4</text>\n",
       "</g>\n",
       "<g clip-path=\"url(#clip7900)\">\n",
       "<text style=\"fill:#000000; fill-opacity:1; font-family:Arial,Helvetica Neue,Helvetica,sans-serif; font-size:48px; text-anchor:middle;\" transform=\"rotate(0, 2293.07, 1479.62)\" x=\"2293.07\" y=\"1479.62\">5</text>\n",
       "</g>\n",
       "<g clip-path=\"url(#clip7900)\">\n",
       "<text style=\"fill:#000000; fill-opacity:1; font-family:Arial,Helvetica Neue,Helvetica,sans-serif; font-size:48px; text-anchor:end;\" transform=\"rotate(0, 219.864, 1312.09)\" x=\"219.864\" y=\"1312.09\">-0.2</text>\n",
       "</g>\n",
       "<g clip-path=\"url(#clip7900)\">\n",
       "<text style=\"fill:#000000; fill-opacity:1; font-family:Arial,Helvetica Neue,Helvetica,sans-serif; font-size:48px; text-anchor:end;\" transform=\"rotate(0, 219.864, 1086.3)\" x=\"219.864\" y=\"1086.3\">-0.1</text>\n",
       "</g>\n",
       "<g clip-path=\"url(#clip7900)\">\n",
       "<text style=\"fill:#000000; fill-opacity:1; font-family:Arial,Helvetica Neue,Helvetica,sans-serif; font-size:48px; text-anchor:end;\" transform=\"rotate(0, 219.864, 860.517)\" x=\"219.864\" y=\"860.517\">0.0</text>\n",
       "</g>\n",
       "<g clip-path=\"url(#clip7900)\">\n",
       "<text style=\"fill:#000000; fill-opacity:1; font-family:Arial,Helvetica Neue,Helvetica,sans-serif; font-size:48px; text-anchor:end;\" transform=\"rotate(0, 219.864, 634.73)\" x=\"219.864\" y=\"634.73\">0.1</text>\n",
       "</g>\n",
       "<g clip-path=\"url(#clip7900)\">\n",
       "<text style=\"fill:#000000; fill-opacity:1; font-family:Arial,Helvetica Neue,Helvetica,sans-serif; font-size:48px; text-anchor:end;\" transform=\"rotate(0, 219.864, 408.942)\" x=\"219.864\" y=\"408.942\">0.2</text>\n",
       "</g>\n",
       "<g clip-path=\"url(#clip7900)\">\n",
       "<text style=\"fill:#000000; fill-opacity:1; font-family:Arial,Helvetica Neue,Helvetica,sans-serif; font-size:48px; text-anchor:end;\" transform=\"rotate(0, 219.864, 183.155)\" x=\"219.864\" y=\"183.155\">0.3</text>\n",
       "</g>\n",
       "<g clip-path=\"url(#clip7900)\">\n",
       "<text style=\"fill:#000000; fill-opacity:1; font-family:Arial,Helvetica Neue,Helvetica,sans-serif; font-size:66px; text-anchor:middle;\" transform=\"rotate(0, 1298.31, 1559.48)\" x=\"1298.31\" y=\"1559.48\">Prediction lag</text>\n",
       "</g>\n",
       "<g clip-path=\"url(#clip7900)\">\n",
       "<text style=\"fill:#000000; fill-opacity:1; font-family:Arial,Helvetica Neue,Helvetica,sans-serif; font-size:66px; text-anchor:middle;\" transform=\"rotate(-90, 89.2861, 736.431)\" x=\"89.2861\" y=\"736.431\">Predictive asymmetry (bits)</text>\n",
       "</g>\n",
       "<path clip-path=\"url(#clip7902)\" d=\"\n",
       "M303.55 412.854 L800.93 302.744 L1298.31 277.017 L1795.69 317.947 L2293.07 308.466 L2293.07 107.722 L1795.69 127.417 L1298.31 86.2547 L800.93 152.052 L303.55 294.653 \n",
       "   Z\n",
       "  \" fill=\"#009af9\" fill-rule=\"evenodd\" fill-opacity=\"0.5\"/>\n",
       "<polyline clip-path=\"url(#clip7902)\" style=\"stroke:#009af9; stroke-width:4; stroke-opacity:1; fill:none\" points=\"\n",
       "  303.55,353.754 800.93,227.398 1298.31,181.636 1795.69,222.682 2293.07,208.094 \n",
       "  \"/>\n",
       "<path clip-path=\"url(#clip7902)\" d=\"\n",
       "M303.55 1159.75 L800.93 1233.48 L1298.31 1283.61 L1795.69 1343.63 L2293.07 1386.61 L2293.07 1203.88 L1795.69 1164.35 L1298.31 1122.24 L800.93 1088.45 L303.55 1088.38 \n",
       "   Z\n",
       "  \" fill=\"#e26f46\" fill-rule=\"evenodd\" fill-opacity=\"0.5\"/>\n",
       "<polyline clip-path=\"url(#clip7902)\" style=\"stroke:#e26f46; stroke-width:4; stroke-opacity:1; fill:none\" points=\"\n",
       "  303.55,1124.07 800.93,1160.97 1298.31,1202.92 1795.69,1253.99 2293.07,1295.24 \n",
       "  \"/>\n",
       "<polyline clip-path=\"url(#clip7902)\" style=\"stroke:#000000; stroke-width:8; stroke-opacity:1; fill:none\" stroke-dasharray=\"4, 8\" points=\"\n",
       "  -210645,843.017 213242,843.017 \n",
       "  \"/>\n",
       "<path clip-path=\"url(#clip7900)\" d=\"\n",
       "M1909.64 312.204 L2280.76 312.204 L2280.76 130.764 L1909.64 130.764  Z\n",
       "  \" fill=\"#ffffff\" fill-rule=\"evenodd\" fill-opacity=\"1\"/>\n",
       "<polyline clip-path=\"url(#clip7900)\" style=\"stroke:#000000; stroke-width:4; stroke-opacity:1; fill:none\" points=\"\n",
       "  1909.64,312.204 2280.76,312.204 2280.76,130.764 1909.64,130.764 1909.64,312.204 \n",
       "  \"/>\n",
       "<polyline clip-path=\"url(#clip7900)\" style=\"stroke:#009af9; stroke-width:4; stroke-opacity:1; fill:none\" points=\"\n",
       "  1933.64,191.244 2077.64,191.244 \n",
       "  \"/>\n",
       "<g clip-path=\"url(#clip7900)\">\n",
       "<text style=\"fill:#000000; fill-opacity:1; font-family:Arial,Helvetica Neue,Helvetica,sans-serif; font-size:48px; text-anchor:start;\" transform=\"rotate(0, 2101.64, 208.744)\" x=\"2101.64\" y=\"208.744\">x -&gt; y</text>\n",
       "</g>\n",
       "<polyline clip-path=\"url(#clip7900)\" style=\"stroke:#e26f46; stroke-width:4; stroke-opacity:1; fill:none\" points=\"\n",
       "  1933.64,251.724 2077.64,251.724 \n",
       "  \"/>\n",
       "<g clip-path=\"url(#clip7900)\">\n",
       "<text style=\"fill:#000000; fill-opacity:1; font-family:Arial,Helvetica Neue,Helvetica,sans-serif; font-size:48px; text-anchor:start;\" transform=\"rotate(0, 2101.64, 269.224)\" x=\"2101.64\" y=\"269.224\">y -&gt; x</text>\n",
       "</g>\n",
       "</svg>\n"
      ]
     },
     "execution_count": 56,
     "metadata": {},
     "output_type": "execute_result"
    }
   ],
   "source": [
    "res_xy = causality(X, Y, test)\n",
    "res_yx = causality(Y, X, test);\n",
    "\n",
    "# Plot\n",
    "RES_xy = hcat(res_xy...)\n",
    "RES_yx = hcat(res_yx...);\n",
    "plot(xlabel = \"Prediction lag\", ylabel = \"Predictive asymmetry (bits)\")\n",
    "plot!(1:maximum(ηs), mean(RES_xy, dims = 2), ribbon = std(RES_xy, dims = 2), label = \"x -> y\")\n",
    "plot!(1:maximum(ηs), mean(RES_yx, dims = 2), ribbon = std(RES_yx, dims = 2), label = \"y -> x\")\n",
    "hline!([0], label = \"\", ls = :dot, lw = 2, c = :black)"
   ]
  },
  {
   "cell_type": "markdown",
   "metadata": {},
   "source": [
    "For most of the realisations, $\\mathbb{A}_{x \\to y}$ is clearly positive across prediction lags, while $\\mathbb{A}_{y \\to x}$. Hence, the predictive asymmetry relatively consistently detects the underlying causal directional coupling!"
   ]
  },
  {
   "cell_type": "code",
   "execution_count": null,
   "metadata": {},
   "outputs": [],
   "source": []
  }
 ],
 "metadata": {
  "kernelspec": {
   "display_name": "Julia 1.2.0",
   "language": "julia",
   "name": "julia-1.2"
  },
  "language_info": {
   "file_extension": ".jl",
   "mimetype": "application/julia",
   "name": "julia",
   "version": "1.2.0"
  }
 },
 "nbformat": 4,
 "nbformat_minor": 4
}
