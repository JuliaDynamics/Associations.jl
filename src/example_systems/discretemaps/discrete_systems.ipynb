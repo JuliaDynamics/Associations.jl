{
 "cells": [
  {
   "cell_type": "code",
   "execution_count": 2,
   "metadata": {},
   "outputs": [
    {
     "name": "stderr",
     "output_type": "stream",
     "text": [
      "\u001b[32m\u001b[1m  Activating\u001b[22m\u001b[39m project at `~/Code/Repos/Temp/CausalityTools.jl`\n"
     ]
    },
    {
     "name": "stderr",
     "output_type": "stream",
     "text": [
      "WARNING: using NearestNeighbors.inrangecount in module CausalityTools conflicts with an existing identifier.\n"
     ]
    },
    {
     "name": "stderr",
     "output_type": "stream",
     "text": [
      "WARNING: Method definition eom_henon_triple(Any, Any, Any) in module CausalityTools at /Users/work/Code/Repos/Temp/CausalityTools.jl/src/example_systems/discretemaps/henontriple.jl:19 overwritten at /Users/work/Code/Repos/Temp/CausalityTools.jl/src/example_systems/discretemaps/henontriple.jl:23.\n",
      "  ** incremental compilation may be fatally broken for this module **\n",
      "\n"
     ]
    }
   ],
   "source": [
    "#using Pkg; Pkg.activate(\"../../../\")\n",
    "using Revise, CausalityTools"
   ]
  },
  {
   "cell_type": "code",
   "execution_count": 61,
   "metadata": {},
   "outputs": [
    {
     "data": {
      "text/plain": [
       "update_state! (generic function with 2 methods)"
      ]
     },
     "metadata": {},
     "output_type": "display_data"
    }
   ],
   "source": [
    "using StaticArrays: MVector\n",
    "\"\"\"\n",
    "    Henon3() <: DiscreteDefinition\n",
    "    Henon3(; a = 0.1, b = 0.3, c = 0.1, xi = [0.1, 0.2, 0.3])\n",
    "\n",
    "The `Henon3` system is a lagged discrete dynamical system. The initial condition\n",
    "`xi` is repeated over the three first time steps before iteration starts.\n",
    "\"\"\"\n",
    "struct Henon33333{T, S, A, B, C} <: DiscreteDefinition\n",
    "    m₁::MVector{2, T} # holds past states of x1\n",
    "    m₂::MVector{2, T} # holds past states of x2\n",
    "    m₃::MVector{2, T} # holds past states of x3\n",
    "    xi::S\n",
    "    a::A\n",
    "    b::B\n",
    "    c::C\n",
    "\n",
    "    function Henon33333(; a::A = 1.4, b::B = 0.3, c::C = 0.1, \n",
    "            xi::S = [0.4, 0.5, 0.6]) where {A, B, C, S}\n",
    "        T = eltype(1.0)\n",
    "        m₁ = MVector{2, T}(repeat([xi[1]], 2))      \n",
    "        m₂ = MVector{2, T}(repeat([xi[2]], 2))        \n",
    "        m₃ = MVector{2, T}(repeat([xi[3]], 2))        \n",
    "        return new{T, S, A, B, C}(m₁, m₂, m₃, xi, a, b, c)\n",
    "    end\n",
    "end\n",
    "\n",
    "function system(s::Henon33333)\n",
    "    return DiscreteDynamicalSystem(eom_henon33333, s.xi, s)\n",
    "end\n",
    "\n",
    "function eom_henon33333(u, p::Henon33333, t)\n",
    "    # `u` is simply ignored here, because the state is stored in the memory vectors\n",
    "    m₁, m₂, m₃ = p.m₁, p.m₂, p.m₃\n",
    "    x₁₁, x₁₂ = m₁[1], m₁[2]\n",
    "    x₂₁, x₂₂ = m₂[1], m₂[2]\n",
    "    x₃₁, x₃₂ = m₃[1], m₃[2]\n",
    "\n",
    "    a, b, c = p.a, p.b, p.c\n",
    "    dx₁= a - x₁₁^2 + b*x₁₂\n",
    "    dx₂= a - c*x₁₁*x₂₁ - (1 - c)*x₂₁^2 + b*x₂₂\n",
    "    dx₃= a - c*x₂₁*x₃₁ - (1 - c)*x₃₁^2 + b*x₃₂\n",
    "\n",
    "    new_state = SVector{3}(dx₁, dx₂, dx₃)\n",
    "    update_state!(p, new_state) # Update memory vectors\n",
    "    return new_state\n",
    "end\n",
    "\n",
    "function update_state!(p::Henon33333, xnew::SVector{3})\n",
    "    p.m₁[2] = p.m₁[1]\n",
    "    p.m₁[1] = xnew[1]\n",
    "    p.m₂[2] = p.m₂[1]\n",
    "    p.m₂[1] = xnew[2]\n",
    "    p.m₃[2] = p.m₃[1]\n",
    "    p.m₃[1] = xnew[3]\n",
    "end\n"
   ]
  },
  {
   "cell_type": "code",
   "execution_count": 62,
   "metadata": {},
   "outputs": [
    {
     "data": {
      "text/plain": [
       "3-dimensional discrete dynamical system\n",
       " state:       [0.4, 0.5, 0.6]\n",
       " rule f:      eom_henon33333\n",
       " in-place?    false\n",
       " jacobian:    ForwardDiff\n",
       " parameters:  Henon33333{Float64, Vector{Float64}, Float64, Float64, Float64}([-0.3296, 1.36], [-0.160202, 1.305], [0.0672386, 1.226], [0.4, 0.5, 0.6], 1.4, 0.3, 0.1)"
      ]
     },
     "metadata": {},
     "output_type": "display_data"
    }
   ],
   "source": [
    "sys = system(Henon33333());"
   ]
  },
  {
   "cell_type": "code",
   "execution_count": 66,
   "metadata": {},
   "outputs": [
    {
     "data": {
      "text/plain": [
       "3-dimensional Dataset{Float64} with 1001 points\n",
       "  0.4        0.5        0.6\n",
       "  1.62032    0.733367   1.61086\n",
       " -1.12199    1.06447   -1.22586\n",
       "  0.627231   0.719658   0.661283\n",
       "  0.669983   1.20809    0.591086\n",
       "  1.13929    0.221434   1.21253\n",
       "  0.30301    1.69307    0.227264\n",
       "  1.64997   -1.1647     1.6788\n",
       " -1.23151    0.879215  -0.872819\n",
       "  0.378384   0.463148   1.29475\n",
       "  ⋮                    \n",
       "  0.781281   0.533008   1.78612\n",
       "  1.07028    1.31244   -1.53514\n",
       "  0.488876  -0.130807   0.0163228\n",
       "  1.48209    1.78473    0.939432\n",
       " -0.649913  -1.77048    0.442955\n",
       "  1.42224   -1.00078    1.58367\n",
       " -0.817736   0.109789  -0.565819\n",
       "  1.15798    1.0979     1.59318\n",
       " -0.186237   0.220965  -1.22905"
      ]
     },
     "metadata": {},
     "output_type": "display_data"
    }
   ],
   "source": [
    "trajectory(sys, 1000)"
   ]
  },
  {
   "cell_type": "code",
   "execution_count": null,
   "metadata": {},
   "outputs": [],
   "source": []
  }
 ],
 "metadata": {
  "kernelspec": {
   "display_name": "Julia 1.8.4",
   "language": "julia",
   "name": "julia-1.8"
  },
  "language_info": {
   "file_extension": ".jl",
   "mimetype": "application/julia",
   "name": "julia",
   "version": "1.8.4"
  },
  "orig_nbformat": 4
 },
 "nbformat": 4,
 "nbformat_minor": 2
}
