{
 "cells": [
  {
   "cell_type": "code",
   "execution_count": 19,
   "metadata": {},
   "outputs": [
    {
     "name": "stderr",
     "output_type": "stream",
     "text": [
      "\u001b[32m\u001b[1m  Activating\u001b[22m\u001b[39m project at `~/Code/Repos/Temp/CausalityTools.jl`\n"
     ]
    }
   ],
   "source": [
    "using Pkg; Pkg.activate(\"../../../../\")\n",
    "using Revise\n",
    "using CairoMakie\n",
    "using CausalityTools\n",
    "using Distributions: MvNormal\n",
    "using Statistics\n",
    "using LinearAlgebra\n",
    "using StateSpaceSets\n"
   ]
  },
  {
   "cell_type": "code",
   "execution_count": 20,
   "metadata": {},
   "outputs": [
    {
     "data": {
      "text/plain": [
       "sunspot_model (generic function with 1 method)"
      ]
     },
     "metadata": {},
     "output_type": "display_data"
    }
   ],
   "source": [
    "# Velmejka-Palus example\n",
    "\n",
    "\n",
    "#Example from their paper.\n",
    "using Distributions: Normal\n",
    "using Statistics: cor\n",
    "using LinearAlgebra: eigvals, diagm\n",
    "function sunspot_model(n::Int; Ttr = 100, ϵ, base = 2,\n",
    "        α₁ = 1.90694, α₂ = -0.98751,\n",
    "        β₁ = 0.78512, β₂ = -0.40662)\n",
    "    Na1 = Normal(0, 1)\n",
    "    Na2 = Normal(0, 1)\n",
    "    a1 = rand(Na1, n + Ttr)\n",
    "    a2 = rand(Na2, n + Ttr)\n",
    "    z1 = zeros(n + Ttr)\n",
    "    z2 = zeros(n + Ttr)\n",
    "    z1[1] = rand(Na1); z1[2] = rand(Na1)\n",
    "    z2[1] = rand(Na1); z2[2] = rand(Na1)\n",
    "    for i = 3:n+Ttr\n",
    "        z1[i] = α₁*z1[i-1] + α₂*z1[i-2] + a1[i] - β₁*a1[i-1] - β₂*a1[i-2]\n",
    "        z2[i] = α₁*(ϵ*z1[i-1]+(1-ϵ)*z2[i-1]) +\n",
    "            α₂*z2[i-2] + a2[i] - β₁*a2[i-1] - β₂*a2[i-2]\n",
    "    end\n",
    "    Z = [z1[2:end] z2[2:end] circshift(z2, -1)[2:end]]\n",
    "   # condmutualinfo = -0.5*sum(log.(eigvals(cor(Z)))) / log(base, ℯ)\n",
    "    return z1[4:end-Ttr], z2[4:end-Ttr]\n",
    "end"
   ]
  },
  {
   "cell_type": "code",
   "execution_count": 398,
   "metadata": {},
   "outputs": [],
   "source": [
    "CairoMakie.activate!(type = \"svg\")\n",
    "\n",
    "x, y = sunspot_model(10000, ϵ = 0.1)\n",
    "f = Figure()\n",
    "ax = Axis(f[1, 1], xlabel = \"Time\", ylabel = \"Value\")\n",
    "lines!(ax, x, label = \"x\")\n",
    "lines!(ax, y, label = \"y\")\n",
    "f"
   ]
  },
  {
   "cell_type": "code",
   "execution_count": 408,
   "metadata": {},
   "outputs": [
    {
     "data": {
      "text/plain": [
       "0.11368398853393624"
      ]
     },
     "metadata": {},
     "output_type": "display_data"
    }
   ],
   "source": [
    "x, y = sunspot_model(5000, ϵ = 0.3)\n",
    "condmutualinfo(Shannon(; base = ℯ), VejmelkaPalus(k = 5), \n",
    "    x[1:end-1], y[1:end-1], y[2:end])"
   ]
  },
  {
   "cell_type": "code",
   "execution_count": 393,
   "metadata": {},
   "outputs": [],
   "source": [
    "D = 3\n",
    "μ = zeros(D)\n",
    "#Σ = [1.496 0.453 0.88; 0.453 0.221 0.166; 0.88 0.166 0.639]\n",
    "x = rand(D, D); Σ = x * transpose(x)\n",
    "N = MvNormal(μ, Σ)\n",
    "ix, iy, iz = 1, 2, 3\n",
    "iyz = [iy; iz]\n",
    "ixz = [ix; iz]\n",
    "\n",
    "iX_YZ = 0.5*log(det(Σ[ix, ix]) * det(Σ[iyz, iyz]) / det(Σ))\n",
    "iX_Z = 0.5*log(det(Σ[ix, ix]) * det(Σ[iz, iz]) / det(Σ[ixz, ixz]))\n",
    "true_condmutualinfo = iX_YZ - iX_Z\n",
    "\n",
    "n = 1000\n",
    "k = max(Int(sqrt(n) ÷ 3), 10)\n",
    "nreps = 10\n",
    "\n",
    "estimators = [\n",
    "    Kraskov(; k), \n",
    "    KozachenkoLeonenko(),\n",
    "    Zhu(; k), \n",
    "    ZhuSingh(; k),\n",
    "    GaoNaive(; k),\n",
    "    GaoNaiveCorrected(; k),\n",
    "    Lord(; k = k),\n",
    "    KSG1(; k), \n",
    "    KSG2(; k),\n",
    "    Gao2018(; k),\n",
    "]\n",
    "\n",
    "estimator_names = [\n",
    "    String(typeof(est).name.name) for est in estimators\n",
    "]\n",
    "\n",
    "estimates = zeros(nreps, length(estimators))\n",
    "for (i, est) in enumerate(estimators)\n",
    "    for j = 1:nreps\n",
    "        data = Dataset([rand(N) for i = 1:n])\n",
    "        X, Y, Z = data[:, ix], data[:, iy], data[:, iz]\n",
    "        estimates[j, i] = (condmutualinfo(est, X, Y, Z; base = ℯ) - true_condmutualinfo) / true_condmutualinfo\n",
    "    end\n",
    "end"
   ]
  },
  {
   "cell_type": "code",
   "execution_count": 394,
   "metadata": {},
   "outputs": [],
   "source": [
    "fig = Figure()\n",
    "ax = Axis(fig[1, 1])\n",
    "for (i, est) in enumerate(estimators)\n",
    "    boxplot!(ax, \n",
    "        [i],\n",
    "        estimates[:, i],\n",
    "    )\n",
    "end\n",
    "hlines!(ax, [true_condmutualinfo], label = \"CMI (true)\")\n",
    "fig"
   ]
  }
 ],
 "metadata": {
  "kernelspec": {
   "display_name": "Julia 1.8.0",
   "language": "julia",
   "name": "julia-1.8"
  },
  "language_info": {
   "file_extension": ".jl",
   "mimetype": "application/julia",
   "name": "julia",
   "version": "1.8.0"
  },
  "orig_nbformat": 4
 },
 "nbformat": 4,
 "nbformat_minor": 2
}
