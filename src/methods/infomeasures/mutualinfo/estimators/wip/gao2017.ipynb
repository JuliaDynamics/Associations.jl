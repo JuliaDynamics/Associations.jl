{
 "cells": [
  {
   "cell_type": "code",
   "execution_count": 6,
   "metadata": {},
   "outputs": [
    {
     "name": "stderr",
     "output_type": "stream",
     "text": [
      "\u001b[32m\u001b[1m  Activating\u001b[22m\u001b[39m project at `~/Code/Repos/Temp/CausalityTools.jl`\n"
     ]
    }
   ],
   "source": [
    "using Pkg; Pkg.activate(\"/Users/work/Code/Repos/Temp/CausalityTools.jl\")\n",
    "using Revise, CausalityTools"
   ]
  },
  {
   "cell_type": "code",
   "execution_count": 281,
   "metadata": {},
   "outputs": [
    {
     "data": {
      "text/plain": [
       "bias (generic function with 1 method)"
      ]
     },
     "metadata": {},
     "output_type": "display_data"
    }
   ],
   "source": [
    "using Neighborhood: Euclidean, Chebyshev, KDTree, Theiler, NeighborNumber\n",
    "using Neighborhood: bulksearch\n",
    "using Distances: evaluate\n",
    "using DelayEmbeddings.StateSpaceSets: SubStateSpaceSet\n",
    "using LinearAlgebra: det, norm\n",
    "using StateSpaceSets: StateSpaceSet\n",
    "using StaticArrays: MVector, MMatrix, SVector, SMatrix\n",
    "\n",
    "import Entropies: entropy\n",
    "\n",
    "\"\"\"\n",
    "    Gao2017 <: EntropyEstimator\n",
    "    Gao2017(k = 1, w = 1, base = 2)\n",
    "\n",
    "A resubstitution estimator from Gao et al. (2017). Can be used both for entropy\n",
    "estimation and\n",
    "\n",
    "[^Gao2017]: Gao, W., Oh, S., & Viswanath, P. (2017, June). Density functional estimators\n",
    "    with k-nearest neighbor bandwidths. In 2017 IEEE International Symposium on Information\n",
    "    Theory (ISIT) (pp. 1351-1355). IEEE.\n",
    "\"\"\"\n",
    "Base.@kwdef struct Gao2017{B, M} #<: CausalityTools.InformationEstimator\n",
    "    k::Int = 1\n",
    "    w::Int = 0\n",
    "    base::B = 2\n",
    "    metric::M = Euclidean()\n",
    "end\n",
    "\n",
    "function Î(q, est::Gao2017, x::AbstractStateSpaceSet{D}) where D\n",
    "    (; k, w, base, metric) = est\n",
    "    N = length(x)\n",
    "    tree = KDTree(x, metric)\n",
    "    Bk,d,α,K = bias(est)\n",
    "    idxs, ds = bulksearch(tree, x, NeighborNumber(k), Theiler(w))\n",
    "\n",
    "end\n",
    "\n",
    "# TODO: implement\n",
    "multiplicative_bias(est::Gao2017) = 1.0\n",
    "\n",
    "Base.@kwdef struct LocalLikelihood{M} <: ProbabilitiesEstimator\n",
    "    k::Int = 5\n",
    "    w::Int = 0\n",
    "    metric::M = Euclidean()\n",
    "end\n",
    "\n",
    "function point_densities(est::LocalLikelihood, x::AbstractStateSpaceSet{D}) where D\n",
    "    (; k, w, metric) = est\n",
    "    N = length(x)\n",
    "    # Modified heuristic from Gao et al. (2017): it is sufficient to consider the \n",
    "    # `K = max(floor(Int, log(N), k)` nearest neighbors neighbors of `x[i]` when \n",
    "    # estimating the local density. A global point-search is pointless and expensive.\n",
    "    kmax = max(floor(Int, log(N)), k)\n",
    "    tree = KDTree(x, Euclidean())\n",
    "    \n",
    "    # The bandwidth `bw[i]` for the point `x[i]` is the distance to the `k`-th nearest\n",
    "    # neighbor of `x[i]`.\n",
    "    idxs, ds = bulksearch(tree, x, NeighborNumber(kmax), Theiler(w))\n",
    "    bws = [d[k] for d in ds]\n",
    "    densities = zeros(N)\n",
    "\n",
    "    S₁ = zeros(MVector{D, Float64})\n",
    "    S₂ = zeros(MMatrix{D, D, Float64})\n",
    "\n",
    "    for i = 1:N\n",
    "        xᵢ = x[i]\n",
    "        bwᵢ = bws[i]\n",
    "        neighborsᵢ = @views x[idxs[i]]\n",
    "        densities[i] = point_density!(S₁, S₂, est, xᵢ, bwᵢ, neighborsᵢ)\n",
    "    end\n",
    "    return densities\n",
    "end\n",
    "\n",
    "\"\"\"\n",
    "    point_density!(S₁, S₂, est::LocalLikelihood, xᵢ, bwᵢ, \n",
    "        neighborsᵢ::AbstractStateSpaceSet{D}) where D\n",
    "\n",
    "Estimate the density around point `xᵢ` using a local likehood estimator, which is \n",
    "a generalization of kernel density estimation. This is done by fitting a local gaussian \n",
    "distribution around `xᵢ` from its local neighborhood (represented the points `neighborsᵢ`).\n",
    "The bandwidth  `bwᵢ` is given by the distance from `xᵢ` to its `k`-th nearest neighbor. \n",
    "\n",
    "`S₁` is a pre-allocated length-`D` vector which holds the means, and `S₂` is a pre-allocated\n",
    "`D`-by-`D` matrix which holds the covariances. Both `S₁` and `S₂` are zeroed every time\n",
    "`point_density!` is called.\n",
    "\"\"\"\n",
    "function point_density!(S₁, S₂, est::LocalLikelihood, xᵢ, bwᵢ, \n",
    "        neighborsᵢ::AbstractStateSpaceSet{D}) where D\n",
    "    N = length(neighborsᵢ)\n",
    "    S₀ = 0.0\n",
    "    S₁ .= 0.0\n",
    "    S₂ .= 0.0 \n",
    "    \n",
    "    bwᵢ_sq = bwᵢ^2\n",
    "    twice_bwᵢ_sq = 2*bwᵢ_sq\n",
    "    for (k, nⱼ) in enumerate(neighborsᵢ)\n",
    "        dᵢ = evaluate(est.metric, nⱼ, xᵢ)\n",
    "        eᵢ = exp(-dᵢ / twice_bwᵢ_sq)\n",
    "        Δⱼ = (nⱼ - xᵢ)\n",
    "        S₀ += eᵢ\n",
    "        S₁ += eᵢ * (Δⱼ / bwᵢ)\n",
    "        S₂ += eᵢ * (Δⱼ * transpose(Δⱼ)) / bwᵢ_sq\n",
    "    end\n",
    "    # Weighted sample mean and sample variance\n",
    "    μ = S₁ / S₀\n",
    "    Σ = S₂ / S₀ - S₁*transpose(S₁) / S₀^2\n",
    "    \n",
    "    detΣ = det(Σ)\n",
    "    # if Σ is singular, we can't take its inverse either, so just return 0.0\n",
    "    # density straight away.\n",
    "    if det(Σ) ≈ 0\n",
    "        return 0.0\n",
    "    end\n",
    "    \n",
    "    num = S₀ * exp((-1/(2*S₀^2))*transpose(μ)*inv(Σ)*μ) \n",
    "    den = N*(2π)^(D/2)*(bwᵢ^D) * det(Σ)^(1/2)\n",
    "    return num/den\n",
    "end\n",
    "\n",
    "function probabilities_and_outcomes(est::LocalLikelihood, x)\n",
    "    return Probabilities(point_densities(est, x)), x\n",
    "end\n",
    "probabilities(est::LocalLikelihood, x) = Probabilities(point_densities(est, x))\n",
    "outcomes(est::LocalLikelihood, x) = x\n",
    "total_outcomes(x, est::LocalLikelihood) = length(x)\n",
    "\n",
    "# TODO: implement. not sure how, though. Gao (2017) is not very clear...\n",
    "bias(q, est::LocalLikelihood, x) = 1.0 "
   ]
  },
  {
   "cell_type": "code",
   "execution_count": 283,
   "metadata": {},
   "outputs": [
    {
     "ename": "MethodError",
     "evalue": "MethodError: no method matching bias()\nClosest candidates are:\n  bias(!Matched::Any, !Matched::LocalLikelihood, !Matched::Any) at ~/Code/Repos/Temp/CausalityTools.jl/src/methods/infomeasures/mutualinfo/estimators/nearest_neighbors/gao2017.ipynb:129",
     "output_type": "error",
     "traceback": [
      "MethodError: no method matching bias()\n",
      "Closest candidates are:\n",
      "  bias(!Matched::Any, !Matched::LocalLikelihood, !Matched::Any) at ~/Code/Repos/Temp/CausalityTools.jl/src/methods/infomeasures/mutualinfo/estimators/nearest_neighbors/gao2017.ipynb:129\n",
      "\n",
      "Stacktrace:\n",
      " [1] information(e::Renyi{Float64, Int64}, est::LocalLikelihood{Euclidean}, x::StateSpaceSet{5, Float64})\n",
      "   @ Main ~/Code/Repos/Temp/CausalityTools.jl/src/methods/infomeasures/mutualinfo/estimators/nearest_neighbors/gao2017.ipynb:129\n",
      " [2] top-level scope\n",
      "   @ ./timing.jl:263 [inlined]\n",
      " [3] top-level scope\n",
      "   @ ~/Code/Repos/Temp/CausalityTools.jl/src/methods/infomeasures/mutualinfo/estimators/nearest_neighbors/gao2017.ipynb:0"
     ]
    }
   ],
   "source": [
    "using CairoMakie\n",
    "\n",
    "#x = StateSpaceSet(rand(1.0:1.0:5.0, 30, 2) .+ randn(30, 2)*0.0001 )\n",
    "x = StateSpaceSet(rand(10000, 5))\n",
    "est = LocalLikelihood()\n",
    "#x = StateSpaceSet([0.79, 0.5, 0.45, 0.46, 0.5, 0.46, 0.03, 0.11, 0.02, 0.2, 0.03, 0.5, 0.61])\n",
    "@time information(Shannon(), est, x)\n"
   ]
  },
  {
   "cell_type": "code",
   "execution_count": null,
   "metadata": {},
   "outputs": [],
   "source": []
  }
 ],
 "metadata": {
  "kernelspec": {
   "display_name": "Julia 1.8.0",
   "language": "julia",
   "name": "julia-1.8"
  },
  "language_info": {
   "file_extension": ".jl",
   "mimetype": "application/julia",
   "name": "julia",
   "version": "1.8.0"
  },
  "orig_nbformat": 4
 },
 "nbformat": 4,
 "nbformat_minor": 2
}
