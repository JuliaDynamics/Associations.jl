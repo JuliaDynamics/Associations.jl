{
 "cells": [
  {
   "cell_type": "markdown",
   "metadata": {},
   "source": [
    "Let the joint StateSpaceSet $X := \\{\\bf{X}_1, \\bf{X_2}, \\ldots, \\bf{X}_m \\}$ be defined by the\n",
    "concatenation of the marginal StateSpaceSets $\\{ \\bf{X}_k \\}_{k=1}^m$, where each $\\bf{X}_k$ \n",
    "is potentially multivariate. Let $\\bf{x}_1, \\bf{x}_2, \\ldots, \\bf{x}_N$ be the points \n",
    "in the joint space $X$.\n",
    "\n",
    "The `KraskovStögbauerGrassberger2` estimator first locates, for each $\\bf{x}_i \\in X$, the\n",
    "point $\\bf{n}_i \\in X$, the `k`-th nearest neighbor to $\\bf{x}_i$, according to the \n",
    "maximum norm (`Chebyshev` metric). Let $\\epsilon_i$ be the\n",
    "distance $d(\\bf{x}_i, \\bf{n}_i)$.\n",
    "\n",
    "Consider $x_i^m \\in \\bf{X}_m$, the $i$-th point in the marginal space $\\bf{X}_m$. For each \n",
    "$\\bf{x}_i^m$, we determine $\\theta_i^m$ := the number of points $\\bf{x}_k^m \\in \\bf{X}_m$ that \n",
    "are a distance less than $\\epsilon_i$ away from $\\bf{x}_i^m$. That is, we use the \n",
    "distance from a query point $\\bf{x}_i \\in X$ (in the *joint* space) to count neighbors of \n",
    "$x_i^m \\in \\bf{X}_m$ (in the marginal space).\n",
    "\n",
    "Mutual information between the is the variables $\\bf{X}_1, \\bf{X_2}, \\ldots, \\bf{X}_m$ is\n",
    "the estimated as \n",
    "\n",
    "$$\n",
    "\\hat{I}_{KSG2}(\\bf{X}) = \n",
    "    \\psi{(k)} - \n",
    "    \\dfrac{m - 1}{k} + \n",
    "    (m - 1)\\psi{(N)} - \n",
    "    \\dfrac{1}{N} \\sum_{i = 1}^N \\sum_{j = 1}^m \\psi{(\\theta_i^j + 1)}\n",
    "$$"
   ]
  },
  {
   "cell_type": "code",
   "execution_count": 1,
   "metadata": {},
   "outputs": [
    {
     "name": "stderr",
     "output_type": "stream",
     "text": [
      "\u001b[32m\u001b[1m  Activating\u001b[22m\u001b[39m project at `~/Code/Repos/Temp/CausalityTools.jl`\n"
     ]
    },
    {
     "name": "stderr",
     "output_type": "stream",
     "text": [
      "WARNING: Method definition estimate(CausalityTools.CMI{Nothing}, Entropies.Renyi{Q, B} where B where Q, CausalityTools.FrenzelPompe{MJ, MM} where MM where MJ, Any, Any, Any) in module CausalityTools at /Users/work/Code/Repos/Temp/CausalityTools.jl/src/methods/infomeasures/conditional_mutualinfo/estimators/FrenzelPompe.jl:34 overwritten at /Users/work/Code/Repos/Temp/CausalityTools.jl/src/methods/infomeasures/conditional_mutualinfo/estimators/MesnerShalisi.jl:22.\n",
      "  ** incremental compilation may be fatally broken for this module **\n",
      "\n"
     ]
    }
   ],
   "source": [
    "using Pkg; Pkg.activate(\"../../../../../../\")\n",
    "using Revise, CairoMakie, CausalityTools, StateSpaceSets\n",
    "using Distributions: MvNormal\n",
    "using Statistics\n",
    "using LinearAlgebra\n"
   ]
  },
  {
   "cell_type": "code",
   "execution_count": 2,
   "metadata": {},
   "outputs": [],
   "source": [
    "ρ = 0.1\n",
    "N2 = MvNormal([0, 0], [1.0 ρ; ρ 1.0])\n",
    "X, Y = columns(StateSpaceSet([rand(N2) for i = 1:100]));"
   ]
  },
  {
   "cell_type": "code",
   "execution_count": 3,
   "metadata": {},
   "outputs": [
    {
     "data": {
      "text/plain": [
       "new_cycle_theme (generic function with 1 method)"
      ]
     },
     "metadata": {},
     "output_type": "display_data"
    }
   ],
   "source": [
    "function new_cycle_theme()\n",
    "    # https://nanx.me/ggsci/reference/pal_locuszoom.html\n",
    "    my_colors = [\"#D43F3AFF\", \"#EEA236FF\", \"#5CB85CFF\", \"#46B8DAFF\",\n",
    "        \"#357EBDFF\", \"#9632B8FF\", \"#B8B8B8FF\"]\n",
    "    cycle = Cycle([:color, :linestyle, :marker], covary=true) # alltogether\n",
    "    my_markers = [:circle, :rect, :utriangle, :dtriangle, :diamond,\n",
    "        :pentagon, :cross, :xcross]\n",
    "    my_linestyle = [nothing, :dash, :dot, :dashdot, :dashdotdot]\n",
    "    Theme(\n",
    "        fontsize = 16, font=\"CMU Serif\",\n",
    "        colormap = :linear_bmy_10_95_c78_n256,\n",
    "        palette = (\n",
    "            color = my_colors, \n",
    "            marker = my_markers, \n",
    "            linestyle = my_linestyle,\n",
    "        ),\n",
    "        Axis = (\n",
    "            backgroundcolor= (:white, 0.2), \n",
    "            xgridstyle = :dash, \n",
    "            ygridstyle = :dash\n",
    "        ),\n",
    "        Lines = (\n",
    "            cycle= cycle,\n",
    "        ), \n",
    "        Scatter = (\n",
    "            cycle = cycle,\n",
    "        ),\n",
    "        Legend = (\n",
    "            bgcolor = (:white, 0.1), \n",
    "            framecolor = (:white, 0.2),\n",
    "            labelsize = 13,\n",
    "        )\n",
    "    )\n",
    "end"
   ]
  },
  {
   "cell_type": "code",
   "execution_count": 4,
   "metadata": {},
   "outputs": [
    {
     "data": {
      "text/plain": [
       "getellipsepoints (generic function with 1 method)"
      ]
     },
     "metadata": {},
     "output_type": "display_data"
    }
   ],
   "source": [
    "function getellipsepoints(cx, cy, rx, ry, θ)\n",
    "\tt = range(0, 2*pi, length=100)\n",
    "\tellipse_x_r = @. rx * cos(t)\n",
    "\tellipse_y_r = @. ry * sin(t)\n",
    "\tR = [cos(θ) sin(θ); -sin(θ) cos(θ)]\n",
    "\tr_ellipse = [ellipse_x_r ellipse_y_r] * R\n",
    "\tx = @. cx + r_ellipse[:,1]\n",
    "\ty = @. cy + r_ellipse[:,2]\n",
    "\t(x,y)\n",
    "end"
   ]
  },
  {
   "cell_type": "code",
   "execution_count": 15,
   "metadata": {},
   "outputs": [
    {
     "data": {
      "text/plain": [
       "anim_entropy (generic function with 1 method)"
      ]
     },
     "metadata": {},
     "output_type": "display_data"
    }
   ],
   "source": [
    "using StaticArrays, Neighborhood, SpecialFunctions\n",
    "function anim_entropy(e::Renyi, est::Lord, x::AbstractStateSpaceSet{D}; j = 1) where {D}\n",
    "    # TODO: only for Shannon()\n",
    "    (; k, w, metric) = est\n",
    "    N = length(x)\n",
    "    tree = KDTree(x, metric)\n",
    "    knn_idxs, ds = bulksearch(tree, x, NeighborNumber(k), Theiler(w))\n",
    "\n",
    "    # Decrease allocations and speed up computations by pre-allocating.\n",
    "    # We're only dealing with matrices which in either axis has a maximum dimension of `k`,\n",
    "    # so this is still far within the realm of where StaticArrays shines.\n",
    "    # -------------------------------------------------------------------------------------\n",
    "    # Contains neighborhood-centroid-centered vectors, where\n",
    "    # `C[1]` := the centered query point\n",
    "    # `C[1 + j]` := the centered `j`-th neighbor of the query point.\n",
    "    C = MVector{k + 1, MVector{D}}(@SVector zeros(D) for i = 1:k+1)\n",
    "\n",
    "    # Centered neighbors need to be ordered row-wise in a matrix. We re-fill this matrix\n",
    "    # for every query point `xᵢ`\n",
    "    A = @MMatrix zeros(k+1, D)\n",
    "\n",
    "    h = 0.0\n",
    "    rs = zeros(D)\n",
    "    g2 = gamma(D/2 + 1)\n",
    "    for (i, xᵢ) in enumerate(x)\n",
    "        neighborsᵢ = x[knn_idxs[i]]\n",
    "\n",
    "        # Center neighborhood around mean.\n",
    "        c = CausalityTools.centroid(xᵢ, neighborsᵢ, C)\n",
    "        CausalityTools.center_neighborhood!(c, C, xᵢ, neighborsᵢ) # put centered vectors in `M`\n",
    "        CausalityTools.fill_A!(A, C, D)\n",
    "\n",
    "        # SVD\n",
    "        U, Σ, Vt = svd(A)\n",
    "\n",
    "        # How many of the `k` neighbors of `xᵢ` are within the ellipsoid\n",
    "        # whose semi-axes have lengths rs[1], rs[2], ..., rs[D]?\n",
    "        σ₁ = Σ[1]\n",
    "        ϵᵢ = last(ds[i])\n",
    "        rs .= ϵᵢ .* (Σ ./ σ₁) # Scale semi-axis lengths to k-th neighbor distance\n",
    "\n",
    "        # Matrix representation of the ellipse, relative to origin.\n",
    "        Λ = CausalityTools.hyperellipsoid_matrix(Vt, rs)\n",
    "        nns_centered = (pt - xᵢ for pt in neighborsᵢ)\n",
    "        # After the ellipse is found e must now center on `xᵢ`\n",
    "        inside = [transpose(centered_p) * Λ * (centered_p) <= 1 for centered_p in nns_centered]\n",
    "        k_inside = count(inside)\n",
    "\n",
    "        if i == j\n",
    "            return xᵢ, C, A, U, Σ, Vt, rs, neighborsᵢ, c, k_inside, ϵᵢ\n",
    "        end\n",
    "\n",
    "        ϵᵢᵈ = last(ds[i])^D\n",
    "\n",
    "        # σ₁ = Σ[1]\n",
    "        h += 1 / (prod(rs) * N * ϵᵢᵈ * π^(D/2))\n",
    "    end\n",
    "\n",
    "    return h / log(ℯ, e.base)\n",
    "end\n"
   ]
  },
  {
   "cell_type": "code",
   "execution_count": 20,
   "metadata": {},
   "outputs": [
    {
     "data": {
      "image/png": "[encoded data removed]"
     },
     "metadata": {},
     "output_type": "display_data"
    }
   ],
   "source": [
    "j = 5\n",
    "α = 0.5\n",
    "n = 100\n",
    "X, V = rand(n), rand(n)\n",
    "Y = X + α * V\n",
    "data = StateSpaceSet(X, Y)\n",
    "xᵢ, C, A, U, Σ, Vt, rs, neighborsᵢ, c, k_inside, ϵᵢ = \n",
    "    anim_entropy(Shannon(), Lord(k = 20), data; j);\n",
    "X1, X2 = columns(data)\n",
    "pts = [Point2f(pt - xᵢ) for pt in data]\n",
    "nns = [Point2f(nn - xᵢ) for nn in neighborsᵢ]\n",
    "centered_xᵢ = Point2f(xᵢ - xᵢ)\n",
    "\n",
    "Λ = CausalityTools.hyperellipsoid_matrix(Vt, rs)\n",
    "#rotated_nns = [inv(Vt) * pt for pt in nns]\n",
    "inside = [transpose(pt) * Λ * pt <= 1 for pt in nns]\n",
    "outside = [transpose(pt) * Λ * pt > 1 for pt in nns]\n",
    "\n",
    "let\t\n",
    "    f = Figure()\n",
    "    ax = Axis(f[1, 1])\n",
    "\n",
    "    # Plot the ellipse and its semi-axes, from the origin\n",
    "    θ = atan(Vt[:, 1][2], Vt[:, 1][1]) # angle of the first direction relative to x-axis\n",
    "    ellipse = getellipsepoints(centered_xᵢ[1], centered_xᵢ[2], rs[1], rs[2], θ) # everything is shifted\n",
    "\tfirst_axis = [Point2f(centered_xᵢ), Point2f(centered_xᵢ + rs[1] * Vt[:, 1])]\n",
    "    second_axis =  [Point2f(centered_xᵢ), Point2f(centered_xᵢ + rs[2] * Vt[:, 2])]\n",
    "    lines!(ax, first_axis, linewidth = 2, color = :black)\n",
    "    lines!(ax, second_axis, linewidth = 2, color = :grey)\n",
    "    lines!(ax, ellipse[1], ellipse[2], color = :black, linewidth = 3, label = \"local ellipse\")\n",
    "    \n",
    "\n",
    "    # # Shift all data to `xᵢ` (so that `xᵢ` is in the origin), and \n",
    "    # # plot it.\n",
    "    scatter!(ax, pts, label = \"data\",\n",
    "        color = :grey)\n",
    "    scatter!(ax, nns, label = \"neighbors\", \n",
    "        color = :blue)\n",
    "    scatter!(ax, nns[inside], label = \"inside\", \n",
    "        color = :purple)\n",
    "    scatter!(ax, nns[outside], label = \"outside\", \n",
    "        color = :yellow)\n",
    "    #scatter!(ax, data[:, 1], data[:, 2])\n",
    "    #scatter!(ax, neighborsᵢ[:, 1], neighborsᵢ[:, 2])\n",
    "    scatter!(ax, centered_xᵢ, color = :black, label = \"xi\")\n",
    "\n",
    "    axislegend(position = :rb)\n",
    "    return f\n",
    "end\n"
   ]
  },
  {
   "cell_type": "code",
   "execution_count": 6,
   "metadata": {},
   "outputs": [
    {
     "data": {
      "text/plain": [
       "ifamily3 (generic function with 1 method)"
      ]
     },
     "metadata": {},
     "output_type": "display_data"
    }
   ],
   "source": [
    "# Different data with known mutual information from Lord et al.\n",
    "\n",
    "function family1(α, n::Int)\n",
    "    x = rand(n)\n",
    "    v = rand(n)\n",
    "    y = x + α * v\n",
    "    return StateSpaceSet(x), StateSpaceSet(y)\n",
    "end\n",
    "\n",
    "function family3(α, n::Int)\n",
    "    Σ = [\n",
    "       7 -5 -1 -3;\n",
    "       -5 5 -1 3;\n",
    "       -1 -1 3 -1;\n",
    "       -3 3 -1 2+α]\n",
    "    N4 = MvNormal(zeros(4), Σ)\n",
    "    D4 = StateSpaceSet([rand(N4) for i = 1:n])\n",
    "    X = D4[:, 1:2]\n",
    "    Y = D4[:, 3:4]\n",
    "    return X, Y\n",
    "end\n",
    "\n",
    "# True mutual information values for these data\n",
    "using LinearAlgebra\n",
    "function ifamily1(α; base = ℯ)\n",
    "    mi = -log(α) - α - log(2)\n",
    "    return mi / log(ℯ, base)\n",
    "end\n",
    "\n",
    "function ifamily3(α; base = ℯ)\n",
    "    Σ = [\n",
    "       7 -5 -1 -3;\n",
    "       -5 5 -1 3;\n",
    "       -1 -1 3 -1;\n",
    "       -3 3 -1 2+α]\n",
    "    Σx = Σ[1:2, 1:2]\n",
    "    Σx = Σ[3:4, 3:4]\n",
    "    mi = 0.5*log(det(Σx) * det(Σx) / det(Σ))\n",
    "    return mi / log(ℯ, base)\n",
    "end\n"
   ]
  },
  {
   "cell_type": "code",
   "execution_count": 7,
   "metadata": {},
   "outputs": [
    {
     "data": {
      "text/plain": [
       "plot_results (generic function with 1 method)"
      ]
     },
     "metadata": {},
     "output_type": "display_data"
    }
   ],
   "source": [
    "using LaTeXStrings\n",
    "function new_cycle_theme()\n",
    "    # https://nanx.me/ggsci/reference/pal_locuszoom.html\n",
    "    my_colors = [\"#D43F3AFF\", \"#EEA236FF\", \"#5CB85CFF\", \"#46B8DAFF\",\n",
    "        \"#357EBDFF\", \"#9632B8FF\", \"#B8B8B8FF\"]\n",
    "    cycle = Cycle([:color, :linestyle, :marker], covary=true) # alltogether\n",
    "    my_markers = [:circle, :rect, :utriangle, :dtriangle, :diamond,\n",
    "        :pentagon, :cross, :xcross]\n",
    "    my_linestyle = [nothing, :dash, :dot, :dashdot, :dashdotdot]\n",
    "    return Theme(\n",
    "        fontsize = 22, font=\"CMU Serif\",\n",
    "        colormap = :linear_bmy_10_95_c78_n256,\n",
    "        palette = (\n",
    "            color = my_colors, \n",
    "            marker = my_markers, \n",
    "            linestyle = my_linestyle,\n",
    "        ),\n",
    "        Axis = (\n",
    "            backgroundcolor= (:white, 0.2), \n",
    "            xgridstyle = :dash, \n",
    "            ygridstyle = :dash\n",
    "        ),\n",
    "        Lines = (\n",
    "            cycle= cycle,\n",
    "        ), \n",
    "        ScatterLines = (\n",
    "            cycle = cycle,\n",
    "        ),\n",
    "        Scatter = (\n",
    "            cycle = cycle,\n",
    "        ),\n",
    "        Legend = (\n",
    "            bgcolor = (:grey, 0.2), \n",
    "            framecolor = (:white, 0.2),\n",
    "            labelsize = 13,\n",
    "        )\n",
    "    )\n",
    "end\n",
    "\n",
    "run(est; f::Function, # function that generates data\n",
    "        base::Real = ℯ, \n",
    "        nreps::Int = 10, \n",
    "        αs = [1e-6, 1e-5, 1e-4, 1e-3, 1e-2, 1e-1], \n",
    "        n::Int = 500) =\n",
    "    map(α -> mutualinfo(Shannon(; base), est, f(α, n)...), αs)\n",
    "\n",
    "function compute_results(f::Function; estimators, k = 5, k_lord = 20,\n",
    "        n = 1000, base = ℯ, nreps = 3)\n",
    "    as = 7:-1:0\n",
    "    αs = [1/10^(a) for a in as]\n",
    "    is = [zeros(length(αs)) for est in estimators]\n",
    "    for (k, est) in enumerate(estimators)\n",
    "        tmp = zeros(length(αs))\n",
    "        for i = 1:nreps\n",
    "            tmp .+= run(est; f = f, αs, base, n)\n",
    "        end\n",
    "        is[k] .= tmp ./ nreps\n",
    "    end\n",
    "\n",
    "    return αs, as, is\n",
    "end\n",
    "\n",
    "function plot_results(f::Function, ftrue::Function; \n",
    "        base, estimators, k_lord, k, kwargs...)\n",
    "    αs, as, is = compute_results(f; base, estimators, k_lord, k, kwargs...)\n",
    "    set_theme!(new_cycle_theme())\n",
    "\n",
    "    ymin = floor(Int, minimum(Iterators.flatten(is)))\n",
    "    ymax = ceil(Int, maximum(Iterators.flatten(is)))\n",
    "    f = Figure()\n",
    "    ax = Axis(f[1, 1],\n",
    "        xlabel = \"α\", ylabel = \"I (nats)\",\n",
    "        xscale = log10, aspect = 1,\n",
    "        xticks = (αs, [latexstring(\"10^{$(-a)}\") for a in as]),\n",
    "        yticks = (ymin:ymax)\n",
    "        )\n",
    "    xlims!(ax, (1e-7, 1e-0),)\n",
    "    ylims!(ax, (ymin, ymax))\n",
    "    lines!(ax, αs, [ftrue(α; base) for α in αs], \n",
    "        label = \"I (true)\", linewidth = 4, color = :black)\n",
    "    for (i, est) in enumerate(estimators)\n",
    "        es = string(typeof(est).name.name)\n",
    "        lbl = est isa Lord ? \"$es (k = $k_lord)\" : \"$es (k = $k)\"\n",
    "        scatter!(ax, αs, is[i], label = lbl)\n",
    "        lines!(ax, αs, is[i])\n",
    "\n",
    "    end\n",
    "    axislegend()\n",
    "    return f\n",
    "end"
   ]
  },
  {
   "cell_type": "code",
   "execution_count": 50,
   "metadata": {},
   "outputs": [],
   "source": [
    "fig = with_theme(new_cycle_theme()) do \n",
    "\n",
    "    k_lord = 20\n",
    "    k = 5\n",
    "    base = ℯ\n",
    "\n",
    "    estimators = [\n",
    "        Lord(; k = k_lord),\n",
    "        Kraskov(; k), \n",
    "        KozachenkoLeonenko(),\n",
    "        Zhu(; k), \n",
    "        ZhuSingh(; k),\n",
    "        GaoNaive(; k),\n",
    "        GaoNaiveCorrected(; k),\n",
    "        KSG1(; k), \n",
    "        KSG2(; k),\n",
    "    ]\n",
    "    return plot_results(family1, ifamily1; \n",
    "        k_lord = k_lord, k = k, \n",
    "        estimators = estimators,\n",
    "        base = base)\n",
    "end"
   ]
  },
  {
   "cell_type": "markdown",
   "metadata": {},
   "source": []
  },
  {
   "cell_type": "code",
   "execution_count": 47,
   "metadata": {},
   "outputs": [
    {
     "data": {
      "text/plain": [
       "(3.8085002797604375, 3.623143098568017, 5.159445273146853)"
      ]
     },
     "metadata": {},
     "output_type": "display_data"
    }
   ],
   "source": [
    "htrue = 0.5*(1 + log(2π*det([14 7; 7 12]))) \n",
    "N2 = MvNormal([1, 4], [14 7; 7 12])\n",
    "X = StateSpaceSet([rand(N2) for i = 1:100000])\n",
    "h_krask = information(Shannon(; base = ℯ), Kraskov(k = 5), X)\n",
    "h_lord = information(Shannon(; base = ℯ), Lord(k = 30), X)\n",
    "htrue, h_krask, h_lord"
   ]
  },
  {
   "cell_type": "code",
   "execution_count": 37,
   "metadata": {},
   "outputs": [
    {
     "data": {
      "text/plain": [
       "3.8085002797604375"
      ]
     },
     "metadata": {},
     "output_type": "display_data"
    }
   ],
   "source": []
  },
  {
   "cell_type": "code",
   "execution_count": null,
   "metadata": {},
   "outputs": [],
   "source": []
  }
 ],
 "metadata": {
  "kernelspec": {
   "display_name": "Julia 1.8.0",
   "language": "julia",
   "name": "julia-1.8"
  },
  "language_info": {
   "file_extension": ".jl",
   "mimetype": "application/julia",
   "name": "julia",
   "version": "1.8.0"
  },
  "orig_nbformat": 4,
  "vscode": {
   "interpreter": {
    "hash": "31f2aee4e71d21fbe5cf8b01ff0e069b9275f58929596ceb00d14d90e3e16cd6"
   }
  }
 },
 "nbformat": 4,
 "nbformat_minor": 2
}
