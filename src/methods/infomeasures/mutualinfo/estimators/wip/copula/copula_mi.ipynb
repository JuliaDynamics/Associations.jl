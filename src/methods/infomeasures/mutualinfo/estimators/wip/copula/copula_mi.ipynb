{
 "cells": [
  {
   "cell_type": "code",
   "execution_count": 1,
   "metadata": {},
   "outputs": [
    {
     "name": "stderr",
     "output_type": "stream",
     "text": [
      "\u001b[32m\u001b[1m  Activating\u001b[22m\u001b[39m new project at `~/Code/Repos/Temp/CausalityTools.jl/src/methods/infomeasures`\n"
     ]
    }
   ],
   "source": [
    "using Pkg; Pkg.activate(\"../../../\")"
   ]
  },
  {
   "cell_type": "code",
   "execution_count": null,
   "metadata": {},
   "outputs": [],
   "source": [
    "using Revise, CausalityTools"
   ]
  },
  {
   "cell_type": "code",
   "execution_count": null,
   "metadata": {},
   "outputs": [],
   "source": [
    "using CairoMakie\n",
    "using Distributions\n",
    "using Statistics: quantile\n",
    "usin\n",
    "Rx = Exponential(0.7);\n",
    "n = 500\n",
    "x = rand(Rx, n)\n",
    "y = x + randn(n)\n",
    "\n",
    "function empcdf(x)\n",
    "    N = length(x)\n",
    "    F̂ = [count(xᵢ .<= x)  for xᵢ in x] / N\n",
    "end\n",
    "\n",
    "function inv_normal_copula_transform(x)\n",
    "    ex = empcdf(x)\n",
    "    t = zeros(length(ex))\n",
    "    N = Normal(0, 1)\n",
    "    for (i, eᵢ) in enumerate(ex)\n",
    "        if eᵢ == 1.0 # Something weird happens when x = 1 or x = 0. Check why.\n",
    "            t[i] = quantile(N, 1-eps())\n",
    "        elseif eᵢ == 0.0\n",
    "            t[i] = quantile(N, eps())\n",
    "        else\n",
    "            t[i] = quantile(N, eᵢ)\n",
    "        end\n",
    "    end\n",
    "\n",
    "    return t\n",
    "end\n",
    "\n",
    "ex = empcdf(x)\n",
    "ey = empcdf(y)\n",
    "# Apply transformation (ok, as long as we don't change the ecdf). Use inverse normal cdf\n",
    "#, ie.e quantile, so that we can use parametric estimator of MI.\n",
    "X = inv_normal_copula_transform(x)\n",
    "Y = inv_normal_copula_transform(y)\n",
    "\n",
    "f = Figure(resolution = (600, 300))\n",
    "ax = Axis(f[ 1, 1])\n",
    "scatter!(ax, x, y)\n",
    "ax2 = Axis(f[1, 2])\n",
    "scatter!(ax2, X, Y)\n",
    "xlims!(ax2, (-3 , 3))\n",
    "ylims!(ax2, (-3, 3))\n",
    "f\n",
    "\n"
   ]
  }
 ],
 "metadata": {
  "kernelspec": {
   "display_name": "Julia 1.8.0",
   "language": "julia",
   "name": "julia-1.8"
  },
  "language_info": {
   "file_extension": ".jl",
   "mimetype": "application/julia",
   "name": "julia",
   "version": "1.8.0"
  },
  "orig_nbformat": 4
 },
 "nbformat": 4,
 "nbformat_minor": 2
}
