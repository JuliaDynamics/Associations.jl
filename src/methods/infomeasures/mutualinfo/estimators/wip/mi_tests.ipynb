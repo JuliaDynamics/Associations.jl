{
 "cells": [
  {
   "cell_type": "code",
   "execution_count": 1,
   "metadata": {},
   "outputs": [
    {
     "ename": "UndefVarError",
     "evalue": "UndefVarError: StateSpaceSet not defined",
     "output_type": "error",
     "traceback": [
      "UndefVarError: StateSpaceSet not defined\n",
      "\n",
      "Stacktrace:\n",
      " [1] top-level scope\n",
      "   @ ~/Code/Repos/Temp/CausalityTools.jl/src/methods/infomeasures/mutualinfo/mi_tests.ipynb:11"
     ]
    }
   ],
   "source": [
    "\n",
    "using LinearAlgebra\n",
    "using Distributions\n",
    "μ₁ = [1, 1, 1]\n",
    "μ₂ = [0, 0, 0]\n",
    "Σ₁ = diagm(repeat([0.5], 3))\n",
    "Σ₂ = diagm(repeat([0.5], 3))\n",
    "N₁ = MvNormal(μ₁, Σ₁)\n",
    "N₂ = MvNormal(μ₂, Σ₂)\n",
    "n = 10000\n",
    "D₁ = StateSpaceSet([rand(N₁) for i = 1:n])\n",
    "D₂ = StateSpaceSet([rand(N₂) for i = 1:n])\n",
    "\n",
    "function kl_divergence(𝒩₁::MvNormal, 𝒩₂::MvNormal; base = 2)\n",
    "    μ = 𝒩₁.μ\n",
    "    Σ = 𝒩₁.Σ\n",
    "    μ̃ = 𝒩₂.μ\n",
    "    Σ̃ = 𝒩₂.Σ\n",
    "\n",
    "    d = length(μ)\n",
    "    @assert length(μ) == length(μ̃) # dimensions must match\n",
    "    return 0.5 * (\n",
    "        transpose(μ̃ - μ) * inv(Σ̃) * (μ̃ - μ) + \n",
    "        tr(inv(Σ̃)*Σ) - \n",
    "        log(det(Σ̃) / det(Σ)) - \n",
    "        d\n",
    "    ) / log(base, ℯ)\n",
    "end\n",
    "\n",
    "\n",
    "function mutualinfo(𝒩₁::MvNormal, 𝒩₂::MvNormal; base = 2)\n",
    "    @assert length(𝒩₁.μ) == length(𝒩₁.μ) # dimensions must match\n",
    "    d = length(𝒩₁.μ)\n",
    "\n",
    "    H1 = 0.5 * log(det(𝒩₁.Σ))+ d/2. * (1 + log(2π))\n",
    "    H2 = 0.5 * log(det(𝒩₂.Σ))+ d/2. * (1 + log(2π))\n",
    "    M = [𝒩₁.Σ zeros(d, d); zeros(d, d) 𝒩₁.Σ]\n",
    "    H12 = 0.5 * log(det(M))+ (2*d)/2 * (1 + log(2π))\n",
    "\n",
    "    return H1 + H2 - H12\n",
    "end\n",
    "\n",
    "MI = kl_divergence(N₁, N₂)\n",
    "\n",
    "\n",
    "mutualinfo(Shannon(), Kraskov1(), D₁, D₂)\n"
   ]
  },
  {
   "cell_type": "code",
   "execution_count": 2,
   "metadata": {},
   "outputs": [
    {
     "ename": "UndefVarError",
     "evalue": "UndefVarError: kl_divergence not defined",
     "output_type": "error",
     "traceback": [
      "UndefVarError: kl_divergence not defined\n",
      "\n",
      "Stacktrace:\n",
      " [1] top-level scope\n",
      "   @ ~/Code/Repos/Temp/CausalityTools.jl/src/methods/infomeasures/mutualinfo/mi_tests.ipynb:1"
     ]
    }
   ],
   "source": [
    "MI = kl_divergence(N₁, N₂)\n"
   ]
  },
  {
   "cell_type": "code",
   "execution_count": null,
   "metadata": {},
   "outputs": [],
   "source": [
    "using CairoMakie"
   ]
  },
  {
   "cell_type": "code",
   "execution_count": null,
   "metadata": {},
   "outputs": [],
   "source": []
  }
 ],
 "metadata": {
  "kernelspec": {
   "display_name": "Julia 1.6.4",
   "language": "julia",
   "name": "julia-1.6"
  },
  "language_info": {
   "file_extension": ".jl",
   "mimetype": "application/julia",
   "name": "julia",
   "version": "1.8.0"
  },
  "orig_nbformat": 4
 },
 "nbformat": 4,
 "nbformat_minor": 2
}
