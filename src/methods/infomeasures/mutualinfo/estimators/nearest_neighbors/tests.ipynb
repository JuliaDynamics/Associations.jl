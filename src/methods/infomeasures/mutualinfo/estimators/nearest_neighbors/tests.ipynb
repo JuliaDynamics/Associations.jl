{
 "cells": [
  {
   "cell_type": "code",
   "execution_count": 2,
   "metadata": {},
   "outputs": [],
   "source": [
    "import scipy"
   ]
  },
  {
   "cell_type": "markdown",
   "metadata": {},
   "source": [
    "Let the joint StateSpaceSet $X := \\{\\bf{X}_1, \\bf{X_2}, \\ldots, \\bf{X}_m \\}$ be defined by the\n",
    "concatenation of the marginal StateSpaceSets $\\{ \\bf{X}_k \\}_{k=1}^m$, where each $\\bf{X}_k$ \n",
    "is potentially multivariate. Let $\\bf{x}_1, \\bf{x}_2, \\ldots, \\bf{x}_N$ be the points \n",
    "in the joint space $X$.\n",
    "\n",
    "The `KraskovStögbauerGrassberger2` estimator first locates, for each $\\bf{x}_i \\in X$, the\n",
    "point $\\bf{n}_i \\in X$, the `k`-th nearest neighbor to $\\bf{x}_i$, according to the \n",
    "maximum norm (`Chebyshev` metric). Let $\\epsilon_i$ be the\n",
    "distance $d(\\bf{x}_i, \\bf{n}_i)$.\n",
    "\n",
    "Consider $x_i^m \\in \\bf{X}_m$, the $i$-th point in the marginal space $\\bf{X}_m$. For each \n",
    "$\\bf{x}_i^m$, we determine $\\theta_i^m$ := the number of points $\\bf{x}_k^m \\in \\bf{X}_m$ that \n",
    "are a distance less than $\\epsilon_i$ away from $\\bf{x}_i^m$. That is, we use the \n",
    "distance from a query point $\\bf{x}_i \\in X$ (in the *joint* space) to count neighbors of \n",
    "$x_i^m \\in \\bf{X}_m$ (in the marginal space).\n",
    "\n",
    "Mutual information between the is the variables $\\bf{X}_1, \\bf{X_2}, \\ldots, \\bf{X}_m$ is\n",
    "the estimated as \n",
    "\n",
    "$$\n",
    "\\hat{I}_{KSG2}(\\bf{X}) = \n",
    "    \\psi{(k)} - \n",
    "    \\dfrac{m - 1}{k} + \n",
    "    (m - 1)\\psi{(N)} - \n",
    "    \\dfrac{1}{N} \\sum_{i = 1}^N \\sum_{j = 1}^m \\psi{(\\theta_i^j + 1)}\n",
    "$$"
   ]
  },
  {
   "cell_type": "code",
   "execution_count": null,
   "metadata": {},
   "outputs": [],
   "source": []
  },
  {
   "cell_type": "code",
   "execution_count": null,
   "metadata": {},
   "outputs": [],
   "source": []
  },
  {
   "cell_type": "markdown",
   "metadata": {},
   "source": []
  }
 ],
 "metadata": {
  "kernelspec": {
   "display_name": "Python 3.8.9 64-bit",
   "language": "python",
   "name": "python3"
  },
  "language_info": {
   "codemirror_mode": {
    "name": "ipython",
    "version": 3
   },
   "file_extension": ".py",
   "mimetype": "text/x-python",
   "name": "python",
   "nbconvert_exporter": "python",
   "pygments_lexer": "ipython3",
   "version": "3.8.9"
  },
  "orig_nbformat": 4,
  "vscode": {
   "interpreter": {
    "hash": "31f2aee4e71d21fbe5cf8b01ff0e069b9275f58929596ceb00d14d90e3e16cd6"
   }
  }
 },
 "nbformat": 4,
 "nbformat_minor": 2
}
