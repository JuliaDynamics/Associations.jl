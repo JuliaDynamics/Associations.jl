{
 "cells": [
  {
   "cell_type": "markdown",
   "metadata": {},
   "source": [
    "- Estimate entropy of  a single multidimensional variable in $\\mathbb{R}^d$.\n",
    "- On each point $\\bf x_i$, center a hyperrectangle with minimal volume.\n",
    "- This hyperrectangle in minimal. That is, it is constructing by including the set of \n",
    "    $\\chi_i^k$ neighbors, iteratively adjusting sizes in each dimension.\n",
    "- Call the sizes along each dimension $\\epsilon_1, \\epsilon_2, \\ldots, \\epsilon_d$"
   ]
  },
  {
   "cell_type": "code",
   "execution_count": 1,
   "metadata": {},
   "outputs": [
    {
     "name": "stderr",
     "output_type": "stream",
     "text": [
      "\u001b[32m\u001b[1m  Activating\u001b[22m\u001b[39m project at `~/Code/Repos/Temp/TransferEntropy.jl`\n"
     ]
    },
    {
     "name": "stderr",
     "output_type": "stream",
     "text": [
      "WARNING: Method definition (::Type{TransferEntropy.Kraskov1{MX, MY, MZ, B} where B where MZ where MY where MX})() in module TransferEntropy at /Users/work/Code/Repos/Temp/TransferEntropy.jl/src/mutualinfo/estimators/nearest_neighbors/Kraskov1.jl:21 overwritten at util.jl:504.\n",
      "  ** incremental compilation may be fatally broken for this module **\n",
      "\n",
      "WARNING: Method definition Type##kw(Any, Type{TransferEntropy.Kraskov1{MX, MY, MZ, B} where B where MZ where MY where MX}) in module TransferEntropy at /Users/work/Code/Repos/Temp/TransferEntropy.jl/src/mutualinfo/estimators/nearest_neighbors/Kraskov1.jl:21 overwritten at util.jl:504.\n",
      "  ** incremental compilation may be fatally broken for this module **\n",
      "\n"
     ]
    }
   ],
   "source": [
    "using Pkg;\n",
    "Pkg.activate(\"../../\")\n",
    "using Revise, TransferEntropy"
   ]
  },
  {
   "cell_type": "markdown",
   "metadata": {},
   "source": [
    "## Internal functions from Entropies.jl"
   ]
  },
  {
   "cell_type": "code",
   "execution_count": 3,
   "metadata": {},
   "outputs": [
    {
     "data": {
      "text/plain": [
       "n_borderpoints"
      ]
     },
     "metadata": {},
     "output_type": "display_data"
    }
   ],
   "source": [
    "function mean_logvolumes_and_digamma(x, nn_idxs, N::Int, k::Int)\n",
    "    T = eltype(0.0)\n",
    "    logvol::T = 0.0\n",
    "    digammaξ::T = 0.0\n",
    "    for (i, (xᵢ, nn_idxsᵢ)) in enumerate(zip(x, nn_idxs))\n",
    "        nnsᵢ = @views x[nn_idxsᵢ] # the actual coordinates of the points\n",
    "        distsᵢ = maxdists(xᵢ, nnsᵢ)\n",
    "        ξ = n_borderpoints(xᵢ, nnsᵢ, distsᵢ)\n",
    "        digammaξ += digamma(k - ξ + 1)\n",
    "        logvol += log(MathConstants.e, volume_minimal_rect(distsᵢ))\n",
    "    end\n",
    "    logvol /= N\n",
    "    digammaξ /= N\n",
    "\n",
    "    return logvol, digammaξ\n",
    "end\n",
    "\n",
    "\"\"\"\n",
    "    maxdists(xᵢ, nns) → dists\n",
    "\n",
    "Compute the maximum distance from `xᵢ` to the points `xⱼ ∈ nns` along each dimension,\n",
    "i.e. `dists[k] = max{xᵢ[k], xⱼ[k]}` for `j = 1, 2, ..., length(x)`.\n",
    "\"\"\"\n",
    "function maxdists(xᵢ, nns)\n",
    "    mini, maxi = minmaxima(nns)\n",
    "    dists = max.(maxi .- xᵢ, xᵢ .- mini)\n",
    "end\n",
    "\n",
    "\"\"\"\n",
    "    volume_minimal_rect(dists) → vol\n",
    "\n",
    "Compute the volume of a (hyper)-rectangle where the distance from its centre along the\n",
    "`k`-th dimension is given by `dists[k]`, and `length(dists)` is the total dimension.\n",
    "\"\"\"\n",
    "volume_minimal_rect(dists) = prod(dists .* 2)\n",
    "\n",
    "\"\"\"\n",
    "    n_borderpoints(xᵢ, nns, dists) → ξ\n",
    "\n",
    "Compute `ξ`, which is how many of `xᵢ`'s neighbor points `xⱼ ∈ nns` fall on the border of\n",
    "the minimal-volume rectangle with `xᵢ` at its center.\n",
    "\n",
    "`dists[k]` should be the maximum distance from `xᵢ[k]` to any other point along the k-th\n",
    "dimension, and `length(dists)` is the total dimension.\n",
    "\"\"\"\n",
    "n_borderpoints(xᵢ, nns, dists) = count(any(abs.(xᵢ .- xⱼ) .== dists) for xⱼ in nns)"
   ]
  },
  {
   "cell_type": "code",
   "execution_count": 4,
   "metadata": {},
   "outputs": [
    {
     "data": {
      "text/plain": [
       "volumes (generic function with 1 method)"
      ]
     },
     "metadata": {},
     "output_type": "display_data"
    }
   ],
   "source": [
    "\"\"\"\n",
    "    Zhu1 <: EntropyEstimator\n",
    "    Zhu1(k = 1, w = 0, base = MathConstants.e)\n",
    "\n",
    "The `Zhu1` transfer entropy estimator (Zhu et al., 2015)[^Zhu2015].\n",
    "\n",
    "This estimator approximates probabilities within hyperrectangles\n",
    "surrounding each point `xᵢ ∈ x` using using `k` nearest neighbor searches. However,\n",
    "it also considers the number of neighbors falling on the borders of these hyperrectangles.\n",
    "This estimator is an extension to the entropy estimator in Singh et al. (2003).\n",
    "\n",
    "`w` is the Theiler window, which determines if temporal neighbors are excluded\n",
    "during neighbor searches (defaults to `0`, meaning that only the point itself is excluded\n",
    "when searching for neighbours).\n",
    "\n",
    "[^Zhu2015]:\n",
    "    Zhu, J., Bellanger, J. J., Shu, H., & Le Bouquin Jeannès, R. (2015). Contribution to\n",
    "    transfer entropy estimation via the k-nearest-neighbors approach. Entropy, 17(6),\n",
    "    4173-4201.\n",
    "[^Singh2003]:\n",
    "    Singh, H., Misra, N., Hnizdo, V., Fedorowicz, A., & Demchuk, E. (2003). Nearest\n",
    "    neighbor estimates of entropy. American journal of mathematical and management\n",
    "    sciences, 23(3-4), 301-321.\n",
    "\"\"\"\n",
    "Base.@kwdef struct Zhu1{B} <: EntropyEstimator\n",
    "    k::Int = 1\n",
    "    w::Int = 0\n",
    "    base::B = MathConstants.e\n",
    "\n",
    "    function Zhu1(k::Int, w::Int, base::B) where B\n",
    "        k >= 2 || throw(DomainError(\"The number of neighbors k must be >= 2.\"))\n",
    "        new{B}(k, w, base)\n",
    "    end\n",
    "end\n",
    "\n",
    "using Neighborhood: NeighborNumber, Theiler, bulkisearch, bulksearch, WithinRange, isearch\n",
    "using Distances\n",
    "using DelayEmbeddings\n",
    "using SpecialFunctions\n",
    "\n",
    "function te(est::Zhu1,\n",
    "    S::AbstractDataset{DS, Q},\n",
    "    T::AbstractDataset{DT, Q}, \n",
    "    T⁺::AbstractDataset{DTT, Q}\n",
    ") where {DS, DT, DTT, Q}\n",
    "    (; k, w, base) = est\n",
    "    joint = Dataset(S, T, T⁺)\n",
    "    ST, TT⁺ = Dataset(S, T), Dataset(T, T⁺)\n",
    "    \n",
    "    # Find distances in the joint space. Then compute, for each `xᵢ ∈ joint`, the volume of\n",
    "    # the minimal rectangle containing its `k` nearest neighbors (with `k` fixed).\n",
    "    W = Theiler(w)\n",
    "    tree_joint = KDTree(joint, Chebyshev())\n",
    "    nns_joint, ds_joint = bulksearch(tree_joint, joint, NeighborNumber(k), W)\n",
    "    N = length(joint)\n",
    "    ds = [ds_joint[i][k] for i = 1:N]\n",
    "    vJ = volumes(joint, nns_joint, N)\n",
    "\n",
    "    # For each `xᵢ ∈ M`, where `M` is one of the marginal spaces, count the number of \n",
    "    # points within distance `ds[i]` from the point. Then count, for each point in each \n",
    "    # of the marginals, how many neighbors each `xᵢ` has given `ds[i]`.\n",
    "    tree_ST, tree_TT⁺, tree_T = KDTree.([ST, TT⁺, T], Ref(Chebyshev()))\n",
    "    nns_ST    = [isearch(tree_ST, pᵢ, WithinRange(ds[i])) for (i, pᵢ) in enumerate(ST)]\n",
    "    nns_TT⁺   = [isearch(tree_TT⁺, pᵢ, WithinRange(ds[i])) for (i, pᵢ) in enumerate(TT⁺)]\n",
    "    nns_T     = [isearch(tree_T, pᵢ, WithinRange(ds[i])) for (i, pᵢ) in enumerate(T)]\n",
    "    kST = length.(nns_ST)\n",
    "    kTT⁺ = length.(nns_TT⁺)\n",
    "    kT = length.(nns_T)\n",
    "\n",
    "    # For each `xᵢ ∈ ST`, compute the volume of the minimal rectangle of its neighbors\n",
    "    # falling within distance `ds[i]` of `xᵢ` (each `xᵢ` may have a different number \n",
    "    # of neighbors, since we're now using absolute *distance* to find neighbors.\n",
    "    vST = volumes(ST, nns_ST, N)\n",
    "    vTT⁺ = volumes(TT⁺, nns_TT⁺, N)\n",
    "    vT = volumes(T, nns_T, N)\n",
    "    \n",
    "    # Compute transfer entropy\n",
    "    return mean_volumes(vJ, vST, vTT⁺, vT, N) + \n",
    "        mean_digamma(kST, kTT⁺, kT, k, N, DS, DT, DTT)\n",
    "end \n",
    "\n",
    "function volumes(x::AbstractDataset, nn_idxs, N::Int)\n",
    "    T = eltype(0.0)\n",
    "    volumes = zeros(T, N)\n",
    "    for (i, (xᵢ, nn_idxsᵢ)) in enumerate(zip(x, nn_idxs))\n",
    "        nnsᵢ = @views x[nn_idxsᵢ] # the actual coordinates of the points\n",
    "        distsᵢ = maxdists(xᵢ, nnsᵢ)\n",
    "        volumes[i] = volume_minimal_rect(distsᵢ)\n",
    "    end\n",
    "    return volumes\n",
    "end\n",
    "\n",
    "function mean_volumes(vols_joint, vols_ST, vols_TT⁺, vols_T, N::Int)\n",
    "    vol = 0.0\n",
    "    for i = 1:N\n",
    "        vol += (vols_TT⁺[i] * vols_ST[i]) / (vols_joint[i] * vols_T[i])\n",
    "    end\n",
    "    return vol / N\n",
    "end\n",
    "\n",
    "function mean_digamma(ks_ST, ks_TT⁺, ks_T, k::Int, N::Int, \n",
    "        dS::Int, dT::Int, dT⁺::Int)\n",
    "    \n",
    "    Φ = 0.0\n",
    "    for i = 1:N\n",
    "        Φ += digamma(k) + \n",
    "            digamma(ks_T[i]) - \n",
    "            digamma(ks_TT⁺[i]) - \n",
    "            digamma(ks_ST[i]) + \n",
    "            (dT⁺ + dT - 1) / ks_TT⁺[i] + \n",
    "            (dS + dT - 1) / ks_ST[i] - \n",
    "            (dT⁺ + dT + dS - 1) / k - \n",
    "            (dT - 1) / ks_T[i]\n",
    "    end\n",
    "    return Φ / N\n",
    "end\n",
    "\n"
   ]
  },
  {
   "cell_type": "code",
   "execution_count": 5,
   "metadata": {},
   "outputs": [],
   "source": [
    "import Entropies: EntropyEstimator\n"
   ]
  },
  {
   "cell_type": "code",
   "execution_count": 75,
   "metadata": {},
   "outputs": [
    {
     "data": {
      "text/plain": [
       "0.00886597367670472"
      ]
     },
     "metadata": {},
     "output_type": "display_data"
    }
   ],
   "source": [
    "n = 10000\n",
    "x, y, z = randn(n), randn(n), randn(n)\n",
    "transferentropy(Kraskov(k = 5), x, y, z)"
   ]
  },
  {
   "cell_type": "code",
   "execution_count": 76,
   "metadata": {},
   "outputs": [
    {
     "data": {
      "text/plain": [
       "ARM1 (generic function with 1 method)"
      ]
     },
     "metadata": {},
     "output_type": "display_data"
    }
   ],
   "source": [
    "using Distributions\n",
    "function ARM1(n)\n",
    "    x = zeros(n)\n",
    "    y = zeros(n)\n",
    "    𝒩x = Normal(0, 0.1)\n",
    "    𝒩y = Normal(0, 0.1)\n",
    "\n",
    "    x[1:2] = rand(2)\n",
    "    y[1:2] = rand(2)\n",
    "    for i = 3:n\n",
    "        x[i] = 0.45 * sqrt(2)*x[i-1] - 0.9*x[i-2] - 0.6*y[i-2] + rand(𝒩x)\n",
    "        y[i] = 0.60 * x[i-2] - 0.175*sqrt(2)*y[i-1] + 0.55*sqrt(2) * y[i-2] + rand(𝒩y)\n",
    "    end\n",
    "\n",
    "    return x, y\n",
    "end\n"
   ]
  },
  {
   "cell_type": "code",
   "execution_count": 77,
   "metadata": {},
   "outputs": [
    {
     "data": {
      "text/plain": [
       "analytical_te (generic function with 1 method)"
      ]
     },
     "metadata": {},
     "output_type": "display_data"
    }
   ],
   "source": [
    "using LinearAlgebra, StatsBase\n",
    "function analytical_te(S, T, T⁺)\n",
    "    joint = Dataset(S, T, T⁺)\n",
    "    ST  = Dataset(S, T)\n",
    "    TT⁺ = Dataset(T, T⁺)\n",
    "    Σ_ST     = cov(Matrix(ST)) |> det\n",
    "    Σ_joint  = cov(Matrix(joint)) |> det\n",
    "    Σ_TT⁺    = cov(Matrix(TT⁺)) |> det\n",
    "    Σ_T⁺     = cov(Matrix(T⁺)) |> det\n",
    "\n",
    "    return 0.5 * log((Σ_ST * Σ_TT⁺) / (Σ_joint * Σ_T⁺))\n",
    "end"
   ]
  },
  {
   "cell_type": "code",
   "execution_count": 93,
   "metadata": {},
   "outputs": [
    {
     "data": {
      "text/plain": [
       "1.0421052631578949"
      ]
     },
     "metadata": {},
     "output_type": "display_data"
    }
   ],
   "source": [
    "\n",
    "\n",
    "using Distributions\n",
    "function AR_analytical(n; \n",
    "        hc = 0.5,\n",
    "        Q = 0.1,\n",
    "        R = 0.1,\n",
    "        a = 0.3)\n",
    "\n",
    "    x = zeros(n)\n",
    "    y = zeros(n)\n",
    "    𝒩x = Normal(0, Q)\n",
    "    𝒩y = Normal(0, R)\n",
    "\n",
    "    x[1] = rand(𝒩x)\n",
    "    y[1] = rand(𝒩x)\n",
    "    for i = 2:n\n",
    "        x[i] = a*x[i-1] + rand(𝒩x)\n",
    "        y[i] = hc*x[i] + rand(𝒩y)\n",
    "    end\n",
    "\n",
    "    return x, y\n",
    "end\n",
    "hc = 2.0\n",
    "Q = 1\n",
    "R = 1\n",
    "a = 0.5\n",
    "AR_analytical(100; hc, Q, R, a);\n",
    "function te_ar_analytical(; hc, Q, R, a)\n",
    "    vx = Q / (1 - a^2)\n",
    "    vy = hc^2 * vx + R\n",
    "    Exy = hc * vx\n",
    "    ρ = Exy / (sqrt(vx * vy))\n",
    "\n",
    "    C = [\n",
    "        vx hc*vx a*vx hc*a*vx\n",
    "        hc*vx hc^2*vx+R hc*a*vx hc^2*a*vx\n",
    "        a*vx hc*a*vx vx hc*vx\n",
    "        hc*a*vx hc^2*a*vx hc*vx hc^2*vx+R\n",
    "    ]\n",
    "\n",
    "    tex = det(C[1:2, 1:2]) * det(C[[2, 4], [2, 4]]) / (det(C[2, 2] * det(C[[1, 2, 4], [1,2,4]])))\n",
    "end\n",
    "\n",
    "te_ar_analytical(; hc, Q, R, a)"
   ]
  },
  {
   "cell_type": "code",
   "execution_count": 90,
   "metadata": {},
   "outputs": [
    {
     "data": {
      "text/plain": [
       "1024"
      ]
     },
     "metadata": {},
     "output_type": "display_data"
    }
   ],
   "source": [
    "2^10"
   ]
  },
  {
   "cell_type": "code",
   "execution_count": 94,
   "metadata": {},
   "outputs": [
    {
     "ename": "MethodError",
     "evalue": "MethodError: no method matching te_embed(::Dataset{1, Float64}, ::Dataset{1, Float64}, ::Dataset{1, Float64}, ::EmbeddingTE)\nClosest candidates are:\n  te_embed(!Matched::AbstractVector{T}, !Matched::AbstractVector{T}, !Matched::AbstractVector{T}, ::EmbeddingTE) where T at ~/Code/Repos/Temp/TransferEntropy.jl/src/transferentropy/utils.jl:349",
     "output_type": "error",
     "traceback": [
      "MethodError: no method matching te_embed(::Dataset{1, Float64}, ::Dataset{1, Float64}, ::Dataset{1, Float64}, ::EmbeddingTE)\n",
      "Closest candidates are:\n",
      "  te_embed(!Matched::AbstractVector{T}, !Matched::AbstractVector{T}, !Matched::AbstractVector{T}, ::EmbeddingTE) where T at ~/Code/Repos/Temp/TransferEntropy.jl/src/transferentropy/utils.jl:349\n",
      "\n",
      "Stacktrace:\n",
      " [1] get_marginals(measure::TransferEntropy.TE, s::Dataset{1, Float64}, t::Dataset{1, Float64}, c::Dataset{1, Float64}; emb::EmbeddingTE)\n",
      "   @ TransferEntropy ~/Code/Repos/Temp/TransferEntropy.jl/src/transferentropy/utils.jl:459\n",
      " [2] transferentropy(::Renyi{Float64, Int64}, ::ValueHistogram{RectangularBinning{Int64}}, ::Dataset{1, Float64}, ::Vararg{Dataset{1, Float64}}; kwargs::Base.Pairs{Symbol, Union{}, Tuple{}, NamedTuple{(), Tuple{}}})\n",
      "   @ TransferEntropy ~/Code/Repos/Temp/TransferEntropy.jl/src/transferentropy/transferentropy.jl:196\n",
      " [3] transferentropy(::Renyi{Float64, Int64}, ::ValueHistogram{RectangularBinning{Int64}}, ::Dataset{1, Float64}, ::Dataset{1, Float64}, ::Dataset{1, Float64})\n",
      "   @ TransferEntropy ~/Code/Repos/Temp/TransferEntropy.jl/src/transferentropy/transferentropy.jl:195\n",
      " [4] top-level scope\n",
      "   @ ~/Code/Repos/Temp/TransferEntropy.jl/src/transferentropy/new_estimators.ipynb:30"
     ]
    }
   ],
   "source": [
    "Ns = [round(Int, 2^i) for i = 10:2:14]\n",
    "nreps = 5\n",
    "k = 10\n",
    "tes = [zeros(nreps) for N in Ns]\n",
    "tes_a = [zeros(nreps) for N in Ns]\n",
    "tes_v = [zeros(nreps) for N in Ns]\n",
    "\n",
    "using DelayEmbeddings\n",
    "using DelayEmbeddings: standardize\n",
    "\n",
    "for (n, N) in enumerate(Ns)\n",
    "    for i = 1:nreps\n",
    "\n",
    "        hc = 2.0\n",
    "        Q = 1\n",
    "        R = 1\n",
    "        a = 0.5\n",
    "        \n",
    "        x, y = rand(N), sin.(1:N) #AR_analytical(N; hc, Q, R, a);\n",
    "        source = x\n",
    "        target = y\n",
    "        source .= (source .- mean(source)) ./ std(source)\n",
    "        target .= (target .- mean(target)) ./ std(target)\n",
    "\n",
    "        S = Dataset(source)[1:end-1]\n",
    "        T = Dataset(source)[1:end-1]\n",
    "        T⁺ = Dataset(source)[2:end]\n",
    "        \n",
    "        tes[n][i] = te(Zhu1(k = 100, w = 5), S, T, T⁺)\n",
    "        tes_v[n][i] = transferentropy(Shannon(; base = 2), \n",
    "            ValueHistogram(RectangularBinning(3)), S, T, T⁺)\n",
    "\n",
    "        #tes_a[n][i] = analytical_te(S, T, T⁺)\n",
    "    end\n",
    "end\n",
    "[mean.(tes) mean.(tes_v)]\n",
    "\n"
   ]
  },
  {
   "cell_type": "code",
   "execution_count": 47,
   "metadata": {},
   "outputs": [
    {
     "name": "stdout",
     "output_type": "stream",
     "text": [
      "(Σ_ST, Σ_TT⁺, Σ_joint, Σ_T⁺) = (0.10014811943590071, 0.1730178469057343, 0.023463881991419938, 0.9998312800191135)\n"
     ]
    },
    {
     "data": {
      "text/plain": [
       "-0.15150190607005673"
      ]
     },
     "metadata": {},
     "output_type": "display_data"
    }
   ],
   "source": [
    "N = 100000\n",
    "x, y = ARM1(N)\n",
    "source = x\n",
    "target = y\n",
    "source .= (source .- mean(source)) ./ std(source)\n",
    "target .= (target .- mean(target)) ./ std(target)\n",
    "\n",
    "\n",
    "# S = Dataset(source)[1:end-1]\n",
    "# T = Dataset(source)[1:end-1]\n",
    "# T⁺ = Dataset(source)[2:end]\n",
    "\n",
    "E = genembed(Dataset(x, y), (0, -1, -2, -1, 0, 1), (1, 1, 2, 2, 2, 2))\n",
    "S = E[:, 1:2]\n",
    "T = E[:, 3:5]\n",
    "T⁺ = E[:, 6] |> Dataset\n",
    "analytical_te(S, T, T⁺)\n"
   ]
  },
  {
   "cell_type": "code",
   "execution_count": 580,
   "metadata": {},
   "outputs": [],
   "source": [
    "using CairoMakie"
   ]
  },
  {
   "cell_type": "code",
   "execution_count": 583,
   "metadata": {},
   "outputs": [],
   "source": [
    "Pkg.status()"
   ]
  },
  {
   "cell_type": "code",
   "execution_count": null,
   "metadata": {},
   "outputs": [],
   "source": [
    "x, y = ARM1(N)\n",
    "fig = Figure()\n",
    "lines!(x, label = \"x\")\n",
    "lines!(y, label = \"y\")"
   ]
  }
 ],
 "metadata": {
  "kernelspec": {
   "display_name": "Julia 1.8.0",
   "language": "julia",
   "name": "julia-1.8"
  },
  "language_info": {
   "file_extension": ".jl",
   "mimetype": "application/julia",
   "name": "julia",
   "version": "1.8.0"
  },
  "orig_nbformat": 4,
  "vscode": {
   "interpreter": {
    "hash": "31f2aee4e71d21fbe5cf8b01ff0e069b9275f58929596ceb00d14d90e3e16cd6"
   }
  }
 },
 "nbformat": 4,
 "nbformat_minor": 2
}
