{
 "cells": [
  {
   "cell_type": "code",
   "execution_count": 1,
   "metadata": {},
   "outputs": [
    {
     "name": "stderr",
     "output_type": "stream",
     "text": [
      "\u001b[32m\u001b[1m  Activating\u001b[22m\u001b[39m project at `~/Code/Repos/Temp/CausalityTools.jl`\n"
     ]
    }
   ],
   "source": [
    "using Pkg; Pkg.activate(\"../../../\")\n",
    "using Revise, CausalityTools\n",
    "using CairoMakie"
   ]
  },
  {
   "cell_type": "code",
   "execution_count": 6,
   "metadata": {},
   "outputs": [
    {
     "name": "stderr",
     "output_type": "stream",
     "text": [
      "┌ Error: Failed to revise /Users/work/Code/Repos/Temp/CausalityTools.jl/src/methods/infomeasures/contingency_matrices.jl\n",
      "│   exception = Revise.ReviseEvalException(\"/Users/work/Code/Repos/Temp/CausalityTools.jl/src/methods/infomeasures/none:0\", ErrorException(\"invalid redefinition of constant ContingencyMatrix\"), Any[(top-level scope at none:0, 1)])\n",
      "└ @ Revise /Users/work/.julia/packages/Revise/do2nH/src/packagedef.jl:715\n"
     ]
    },
    {
     "ename": "MethodError",
     "evalue": "MethodError: no method matching contingency_matrix(::Vector{Int64}, ::Vector{Int64})\nClosest candidates are:\n  contingency_matrix(!Matched::ProbabilitiesEstimator, ::Any...) at ~/Code/Repos/Temp/CausalityTools.jl/src/methods/infomeasures/contingency_matrices.jl:73",
     "output_type": "error",
     "traceback": [
      "MethodError: no method matching contingency_matrix(::Vector{Int64}, ::Vector{Int64})\n",
      "Closest candidates are:\n",
      "  contingency_matrix(!Matched::ProbabilitiesEstimator, ::Any...) at ~/Code/Repos/Temp/CausalityTools.jl/src/methods/infomeasures/contingency_matrices.jl:73\n",
      "\n",
      "Stacktrace:\n",
      " [1] top-level scope\n",
      "   @ ~/Code/Repos/Temp/CausalityTools.jl/src/methods/infomeasures/entropy_joint.ipynb:3"
     ]
    }
   ],
   "source": [
    "v1 = [1, 2, 1, 2, 3, 1, 2, 3, 1, 2];\n",
    "v2 = [2, 1, 2, 2, 2, 2, 1, 1, 1, 1];\n",
    "v3 = [4, 3, 2, 1, 4, 3, 3, 2, 1, 2];\n",
    "contingency_matrix(v1, v2, v3)"
   ]
  },
  {
   "cell_type": "code",
   "execution_count": 11,
   "metadata": {},
   "outputs": [],
   "source": [
    "x = rand(1:5, 50000) \n",
    "y = rand(1:7, 50000)\n",
    "xy = Dataset(x, y)\n",
    "\n",
    "Ls = [100:100:500; 1000:1000:10000; 25000:25000:50000]\n",
    "hs_c = zeros(length(Ls))\n",
    "hs_naive = zeros(length(Ls))\n",
    "hs_c_aive = zeros(length(Ls))\n",
    "\n",
    "\n",
    "for (i, L) in enumerate(Ls)\n",
    "    probs_x = probabilities(x[1:L])\n",
    "    probs_y = probabilities(y[1:L])\n",
    "    hs_naive[i] = entropy(Shannon(), CountOccurrences(), xy[1:L])\n",
    "\n",
    "    c = ContingencyMatrix(x[1:L], y[1:L])\n",
    "    hs_c[i] = entropy_joint(JointEntropyShannon(), c)\n",
    "end"
   ]
  },
  {
   "cell_type": "code",
   "execution_count": 12,
   "metadata": {},
   "outputs": [
    {
     "data": {
      "image/png": "[encoded data removed]"
     },
     "metadata": {},
     "output_type": "display_data"
    }
   ],
   "source": [
    "fig = Figure(resolution = (600, 300))\n",
    "ax = Axis(fig[1, 1], xlabel = \"# samples\", ylabel = \"Joint entropy (bits)\")\n",
    "scatterlines!(Ls, hs_naive, label = \"Naive\")\n",
    "#scatterlines!(Ls, hs_c, label = \"Contingency\")\n",
    "axislegend()\n",
    "fig"
   ]
  },
  {
   "cell_type": "code",
   "execution_count": 4,
   "metadata": {},
   "outputs": [
    {
     "ename": "UndefVarError",
     "evalue": "UndefVarError: x not defined",
     "output_type": "error",
     "traceback": [
      "UndefVarError: x not defined\n",
      "\n",
      "Stacktrace:\n",
      " [1] top-level scope\n",
      "   @ ~/Code/Repos/Temp/CausalityTools.jl/src/methods/infomeasures/entropy_joint.ipynb:1"
     ]
    }
   ],
   "source": [
    "c = ContingencyMatrix(x, y)"
   ]
  },
  {
   "cell_type": "code",
   "execution_count": 5,
   "metadata": {},
   "outputs": [
    {
     "data": {
      "text/plain": [
       "cont (generic function with 1 method)"
      ]
     },
     "metadata": {},
     "output_type": "display_data"
    }
   ],
   "source": [
    "function cont(x, y)\n",
    "    probs_x = probabilities(x);\n",
    "    probs_y = probabilities(y);\n",
    "    pc = transpose(probs_y) .* probs_x\n",
    "end"
   ]
  },
  {
   "cell_type": "code",
   "execution_count": 6,
   "metadata": {},
   "outputs": [
    {
     "ename": "UndefVarError",
     "evalue": "UndefVarError: x not defined",
     "output_type": "error",
     "traceback": [
      "UndefVarError: x not defined\n",
      "\n",
      "Stacktrace:\n",
      " [1] top-level scope\n",
      "   @ ~/Code/Repos/Temp/CausalityTools.jl/src/methods/infomeasures/entropy_joint.ipynb:1"
     ]
    }
   ],
   "source": [
    "cont(x, y) ≈ ContingencyMatrix(x, y)"
   ]
  },
  {
   "cell_type": "code",
   "execution_count": 7,
   "metadata": {},
   "outputs": [
    {
     "data": {
      "text/plain": [
       "mutualinfo (generic function with 1 method)"
      ]
     },
     "metadata": {},
     "output_type": "display_data"
    }
   ],
   "source": [
    "function mutualinfo(x, y)\n",
    "    c = ContingencyMatrix(x, y)\n",
    "end"
   ]
  },
  {
   "cell_type": "code",
   "execution_count": 284,
   "metadata": {},
   "outputs": [
    {
     "data": {
      "text/plain": [
       "5×5 ContingencyMatrix{Float64, 2, Probabilities{Float64}}:\n",
       " 0.042024  0.042436  0.044084  0.038316  0.03914\n",
       " 0.040188  0.040582  0.042158  0.036642  0.03743\n",
       " 0.041412  0.041818  0.043442  0.037758  0.03857\n",
       " 0.037536  0.037904  0.039376  0.034224  0.03496\n",
       " 0.04284   0.04326   0.04494   0.03906   0.0399"
      ]
     },
     "metadata": {},
     "output_type": "display_data"
    }
   ],
   "source": [
    "x = rand(1:5, 1000);   y = rand(1:5, 1000);\n",
    "mutualinfo(x, y)"
   ]
  },
  {
   "cell_type": "code",
   "execution_count": 285,
   "metadata": {},
   "outputs": [
    {
     "data": {
      "text/plain": [
       "0.2126269227342209"
      ]
     },
     "metadata": {},
     "output_type": "display_data"
    }
   ],
   "source": [
    "X = [0.09 0.16 0.05; 0.02 0.38 0.1; 0.01 0.05 0.14]\n",
    "mutti(X)"
   ]
  },
  {
   "cell_type": "code",
   "execution_count": 311,
   "metadata": {},
   "outputs": [
    {
     "data": {
      "text/plain": [
       "mutti (generic function with 1 method)"
      ]
     },
     "metadata": {},
     "output_type": "display_data"
    }
   ],
   "source": [
    "function mutti(pXY; base = 2)\n",
    "    pX = dropdims(sum(pXY, dims = 2), dims = 2)\n",
    "    pY = dropdims(sum(pXY, dims = 1), dims = 1)\n",
    "\n",
    "    mi = 0.0\n",
    "    for (i, x) in enumerate(pX)\n",
    "        for (j, y) in enumerate(pY)\n",
    "            mi += pXY[i, j] * CausalityTools.log0(base, pXY[i, j] / (x*y))\n",
    "        end\n",
    "    end\n",
    "\n",
    "    entropy(Probabilities(pX)) + entropy(Probabilities(pY)) - \n",
    "        entropy(Probabilities(vec(pXY)))\n",
    "    #return mi\n",
    "end"
   ]
  },
  {
   "cell_type": "code",
   "execution_count": 352,
   "metadata": {},
   "outputs": [
    {
     "data": {
      "text/plain": [
       "0.33449779679464076"
      ]
     },
     "metadata": {},
     "output_type": "display_data"
    }
   ],
   "source": [
    "M = [0.2 0.1 0.2; 0 0.2 0.1; 0.1 0 0.1]\n",
    "mutti(M; base = 2)"
   ]
  },
  {
   "cell_type": "code",
   "execution_count": 313,
   "metadata": {},
   "outputs": [],
   "source": [
    "#c = ContingencyMatrix(rand(1:3, 100), rand(1:5, 100))\n"
   ]
  },
  {
   "cell_type": "code",
   "execution_count": 367,
   "metadata": {},
   "outputs": [
    {
     "data": {
      "text/plain": [
       "6×3 ContingencyMatrix{Float64, 2, Probabilities{Float64}}:\n",
       " 6.0  12.0  2.0\n",
       " 6.0  12.0  2.0\n",
       " 6.0  12.0  2.0\n",
       " 6.0  12.0  2.0\n",
       " 3.0   6.0  1.0\n",
       " 3.0   6.0  1.0"
      ]
     },
     "metadata": {},
     "output_type": "display_data"
    }
   ],
   "source": [
    "v1 = (2, 4, 3, 1, 6, 3, 2, 1, 4, 5)\n",
    "v2 = (2, 2, 2, 2, 2, 2, 3, 1, 1, 1)\n",
    "\n",
    "#y = floor.(Int, sin.(x) .* 3)\n",
    "#xy = Dataset(x, y)\n",
    "c = ContingencyMatrix(v1, v2)"
   ]
  },
  {
   "cell_type": "code",
   "execution_count": 504,
   "metadata": {},
   "outputs": [
    {
     "name": "stdout",
     "output_type": "stream",
     "text": [
      "ls = Dict(6.0 => 1, 2.0 => 4, 12.0 => 3, 3.0 => 2, 1.0 => 5)\n"
     ]
    },
    {
     "ename": "KeyError",
     "evalue": "KeyError: key 4 not found",
     "output_type": "error",
     "traceback": [
      "KeyError: key 4 not found\n",
      "\n",
      "Stacktrace:\n",
      " [1] getindex(h::Dict{Float64, Int64}, key::Int64)\n",
      "   @ Base ./dict.jl:498\n",
      " [2] tolevels!(x::Vector{Int64})\n",
      "   @ Main ~/Code/Repos/Temp/CausalityTools.jl/src/methods/infomeasures/entropy_joint.ipynb:5\n",
      " [3] top-level scope\n",
      "   @ ~/Code/Repos/Temp/CausalityTools.jl/src/methods/infomeasures/entropy_joint.ipynb:3"
     ]
    }
   ],
   "source": [
    "v = rand(2:4, 10)\n",
    "w = copy(v)\n",
    "tolevels!(w)"
   ]
  },
  {
   "cell_type": "code",
   "execution_count": 258,
   "metadata": {},
   "outputs": [
    {
     "data": {
      "text/plain": [
       "(0.2916919971380598, 3.9225630658958166e-17)"
      ]
     },
     "metadata": {},
     "output_type": "display_data"
    }
   ],
   "source": [
    "est = CountOccurrences()\n",
    "mi3h = MIShannon(definition = MIDefinitionGeneric())\n",
    "mids = MIShannon(definition = MIDefinitionShannonDoubleSum())\n",
    "estimate(mi3h, x, y), estimate(mids, x, y)"
   ]
  },
  {
   "cell_type": "code",
   "execution_count": 3,
   "metadata": {},
   "outputs": [
    {
     "name": "stdout",
     "output_type": "stream",
     "text": [
      "length.(x) = (10, 10, 10)\n",
      "pΩs = Tuple{Probabilities{Float64}, Vector{Int64}}[([0.2, 0.2, 0.2, 0.2, 0.1, 0.1], [1, 2, 3, 4, 5, 6]), ([0.3, 0.6, 0.1], [1, 2, 3]), ([0.5, 0.4, 0.1], [1, 2, 3])]\n"
     ]
    },
    {
     "ename": "MethodError",
     "evalue": "MethodError: no method matching ContingencyMatrix(::Array{Float64, 3}, ::Array{Int64, 3}, ::Tuple{Vector{Any}, Vector{Any}}, ::Tuple{Vector{Any}, Vector{Any}})\nClosest candidates are:\n  ContingencyMatrix(::AbstractArray{T, N}, !Matched::AbstractArray{T, N}, !Matched::Array{AbstractVector{T}, 1}, !Matched::Vector{O}) where {T, N, O} at ~/Code/Repos/Temp/CausalityTools.jl/src/methods/infomeasures/contingency_matrices.jl:59",
     "output_type": "error",
     "traceback": [
      "MethodError: no method matching ContingencyMatrix(::Array{Float64, 3}, ::Array{Int64, 3}, ::Tuple{Vector{Any}, Vector{Any}}, ::Tuple{Vector{Any}, Vector{Any}})\n",
      "Closest candidates are:\n",
      "  ContingencyMatrix(::AbstractArray{T, N}, !Matched::AbstractArray{T, N}, !Matched::Array{AbstractVector{T}, 1}, !Matched::Vector{O}) where {T, N, O} at ~/Code/Repos/Temp/CausalityTools.jl/src/methods/infomeasures/contingency_matrices.jl:59\n",
      "\n",
      "Stacktrace:\n",
      " [1] contingency_matrix(::Vector{Int64}, ::Vector{Int64}, ::Vararg{Vector{Int64}})\n",
      "   @ CausalityTools ~/Code/Repos/Temp/CausalityTools.jl/src/methods/infomeasures/contingency_matrices.jl:97\n",
      " [2] top-level scope\n",
      "   @ ~/Code/Repos/Temp/CausalityTools.jl/src/methods/infomeasures/entropy_joint.ipynb:6"
     ]
    }
   ],
   "source": []
  },
  {
   "cell_type": "code",
   "execution_count": 7,
   "metadata": {},
   "outputs": [],
   "source": []
  },
  {
   "cell_type": "code",
   "execution_count": null,
   "metadata": {},
   "outputs": [],
   "source": []
  }
 ],
 "metadata": {
  "kernelspec": {
   "display_name": "Julia 1.8.4",
   "language": "julia",
   "name": "julia-1.8"
  },
  "language_info": {
   "file_extension": ".jl",
   "mimetype": "application/julia",
   "name": "julia",
   "version": "1.8.4"
  },
  "orig_nbformat": 4,
  "vscode": {
   "interpreter": {
    "hash": "31f2aee4e71d21fbe5cf8b01ff0e069b9275f58929596ceb00d14d90e3e16cd6"
   }
  }
 },
 "nbformat": 4,
 "nbformat_minor": 2
}
