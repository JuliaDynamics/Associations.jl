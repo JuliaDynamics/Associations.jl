{
 "cells": [
  {
   "cell_type": "code",
   "execution_count": 1,
   "metadata": {},
   "outputs": [
    {
     "name": "stderr",
     "output_type": "stream",
     "text": [
      "\u001b[32m\u001b[1m  Activating\u001b[22m\u001b[39m project at `~/Code/Repos/Temp/CausalityTools.jl`\n"
     ]
    }
   ],
   "source": [
    "using Pkg; Pkg.activate(\"../../../../../\")\n",
    "using Revise, CausalityTools"
   ]
  },
  {
   "cell_type": "code",
   "execution_count": 221,
   "metadata": {},
   "outputs": [
    {
     "name": "stdout",
     "output_type": "stream",
     "text": [
      "(i, a[i] ^ -0.5) = (1, 1.048543428780165)\n"
     ]
    },
    {
     "ename": "DomainError",
     "evalue": "DomainError with -0.47965267675933654:\nExponentiation yielding a complex result requires a complex argument.\nReplace x^y with (x+0im)^y, Complex(x)^y, or similar.",
     "output_type": "error",
     "traceback": [
      "DomainError with -0.47965267675933654:\n",
      "Exponentiation yielding a complex result requires a complex argument.\n",
      "Replace x^y with (x+0im)^y, Complex(x)^y, or similar.\n",
      "\n",
      "Stacktrace:\n",
      " [1] throw_exp_domainerror(x::Float64)\n",
      "   @ Base.Math ./math.jl:37\n",
      " [2] ^(x::Float64, y::Float64)\n",
      "   @ Base.Math ./math.jl:1003\n",
      " [3] macro expansion\n",
      "   @ ./show.jl:1047 [inlined]\n",
      " [4] top-level scope\n",
      "   @ ~/Code/Repos/Temp/CausalityTools.jl/src/methods/infomeasures/entropy_cross/estimators/examples_crossentropy.ipynb:17"
     ]
    }
   ],
   "source": [
    "e1 = Exponential(0.3); e2 = Exponential(0.5)\n",
    "n1 = Normal(0, 2); n2 = Normal(0, 3)\n",
    "e = Renyi(q = 1.5, base = 2)\n",
    "def = RenyiDifferentialCrossEntropy()\n",
    "\n",
    "n = 1000\n",
    "E1 = Dataset(rand(e1, n)); E2 = Dataset(rand(e2, n))\n",
    "N1 = Dataset(rand(n1, n)); N2 = Dataset(rand(n2, n))\n",
    "\n",
    "est = RenyiCrossEntropy(k = 3)\n",
    "#est = RenyiCrossEntropyLord(k = 15)\n",
    "entropy_cross(e, def, e1, e2)\n",
    "a = entropy_cross(e, est, E1, E2)\n",
    "#@show round.(a, digits = 2)\n"
   ]
  },
  {
   "cell_type": "code",
   "execution_count": 207,
   "metadata": {},
   "outputs": [
    {
     "ename": "DomainError",
     "evalue": "DomainError with -1.2509872021458546:\nExponentiation yielding a complex result requires a complex argument.\nReplace x^y with (x+0im)^y, Complex(x)^y, or similar.",
     "output_type": "error",
     "traceback": [
      "DomainError with -1.2509872021458546:\n",
      "Exponentiation yielding a complex result requires a complex argument.\n",
      "Replace x^y with (x+0im)^y, Complex(x)^y, or similar.\n",
      "\n",
      "Stacktrace:\n",
      "  [1] throw_exp_domainerror(x::Float64)\n",
      "    @ Base.Math ./math.jl:37\n",
      "  [2] ^(x::Float64, y::Float64)\n",
      "    @ Base.Math ./math.jl:1003\n",
      "  [3] _broadcast_getindex_evalf\n",
      "    @ ./broadcast.jl:670 [inlined]\n",
      "  [4] _broadcast_getindex\n",
      "    @ ./broadcast.jl:643 [inlined]\n",
      "  [5] getindex\n",
      "    @ ./broadcast.jl:597 [inlined]\n",
      "  [6] macro expansion\n",
      "    @ ./broadcast.jl:961 [inlined]\n",
      "  [7] macro expansion\n",
      "    @ ./simdloop.jl:77 [inlined]\n",
      "  [8] copyto!\n",
      "    @ ./broadcast.jl:960 [inlined]\n",
      "  [9] copyto!\n",
      "    @ ./broadcast.jl:913 [inlined]\n",
      " [10] copy\n",
      "    @ ./broadcast.jl:885 [inlined]\n",
      " [11] materialize\n",
      "    @ ./broadcast.jl:860 [inlined]\n",
      " [12] entropy_cross(e::Renyi{Float64, Int64}, est::RenyiCrossEntropy, x::Dataset{1, Float64}, y::Dataset{1, Float64})\n",
      "    @ CausalityTools ~/Code/Repos/Temp/CausalityTools.jl/src/methods/infomeasures/entropy_cross/estimators/continuous/RenyiCrossEntropy.jl:32\n",
      " [13] top-level scope\n",
      "    @ ~/Code/Repos/Temp/CausalityTools.jl/src/methods/infomeasures/entropy_cross/estimators/examples_crossentropy.ipynb:16"
     ]
    }
   ],
   "source": [
    "λs = 0.1:0.2:1.5 |> collect\n",
    "nreps = 20\n",
    "theoretical_exp = zeros(length(λs))\n",
    "estimated_exp = zeros(nreps, length(λs))\n",
    "est = RenyiCrossEntropy(k = 4)\n",
    "#est = RenyiCrossEntropyLord(k = 15)\n",
    "def = RenyiDifferentialCrossEntropy()\n",
    "e = Renyi(q = 1.3, base = 2)\n",
    "n = 1000\n",
    "for (i, λ) in enumerate(λs)\n",
    "    eref = Exponential(1.0)\n",
    "    etarg = Exponential(λ)\n",
    "    theoretical_exp[i] = entropy_cross(e, def, eref, etarg)\n",
    "    for j = 1:nreps\n",
    "        ER, ET = Dataset(rand(eref, n)), Dataset(rand(etarg, n))\n",
    "        estimated_exp[j, i] = entropy_cross(e, est, ER, ET)\n",
    "    end\n",
    "end\n"
   ]
  },
  {
   "cell_type": "code",
   "execution_count": 205,
   "metadata": {},
   "outputs": [
    {
     "data": {
      "image/png": "[encoded data removed]"
     },
     "metadata": {},
     "output_type": "display_data"
    }
   ],
   "source": [
    "using Statistics\n",
    "μ = [quantile(estimated_exp[:, i], 0.5) for i = 1:length(λs)]\n",
    "lq = [quantile(estimated_exp[:, i], 0.025) for i = 1:length(λs)]\n",
    "uq = [quantile(estimated_exp[:, i], 1 - 0.025) for i = 1:length(λs)]\n",
    "\n",
    "using CairoMakie\n",
    "f = Figure(resolution = (400, 400))\n",
    "ax = Axis(f[1, 1], xlabel = \"λ\", ylabel = \"Ĉᴿ(X, Y) [bits]\")\n",
    "ymin = minimum(minimum.([theoretical_exp, estimated_exp]))*0.9\n",
    "ymax = maximum(maximum.([theoretical_exp, estimated_exp]))*1.1\n",
    "\n",
    "ylims!(ax, (ymin, ymax))\n",
    "scatterlines!(ax, λs, theoretical_exp, label = \"Theoretical\", color = :black, linewidth = 5)\n",
    "scatterlines!(ax, λs, μ, label = \"Estimated\", color = :green)\n",
    "band!(ax, λs, lq, uq, color = (:green, 0.5))\n",
    "axislegend()\n",
    "f"
   ]
  },
  {
   "cell_type": "code",
   "execution_count": null,
   "metadata": {},
   "outputs": [],
   "source": []
  }
 ],
 "metadata": {
  "kernelspec": {
   "display_name": "Julia 1.8.0",
   "language": "julia",
   "name": "julia-1.8"
  },
  "language_info": {
   "file_extension": ".jl",
   "mimetype": "application/julia",
   "name": "julia",
   "version": "1.8.0"
  },
  "orig_nbformat": 4,
  "vscode": {
   "interpreter": {
    "hash": "31f2aee4e71d21fbe5cf8b01ff0e069b9275f58929596ceb00d14d90e3e16cd6"
   }
  }
 },
 "nbformat": 4,
 "nbformat_minor": 2
}
