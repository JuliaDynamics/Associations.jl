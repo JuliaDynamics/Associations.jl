{
 "cells": [
  {
   "cell_type": "code",
   "execution_count": 2,
   "metadata": {},
   "outputs": [
    {
     "name": "stderr",
     "output_type": "stream",
     "text": [
      "\u001b[32m\u001b[1m  Activating\u001b[22m\u001b[39m project at `~/Code/Repos/quickfixes/CausalityTools.jl`\n"
     ]
    }
   ],
   "source": [
    "using Pkg; Pkg.activate(\"../../../\")\n",
    "using Revise, CausalityTools"
   ]
  },
  {
   "attachments": {},
   "cell_type": "markdown",
   "metadata": {},
   "source": [
    "What is fastest? Re-making trees for each libsize, or making a huge \n",
    "tree and using a skip-function to search it?"
   ]
  },
  {
   "cell_type": "code",
   "execution_count": 13,
   "metadata": {},
   "outputs": [
    {
     "data": {
      "text/plain": [
       "5-dimensional Dataset{Float64} with 10000 points\n",
       " 0.105765   0.83328    0.430893   0.79646   0.35821\n",
       " 0.123364   0.172368   0.232974   0.396569  0.177444\n",
       " 0.416817   0.0539173  0.6732     0.337294  0.820712\n",
       " 0.78115    0.125474   0.0278333  0.962426  0.65742\n",
       " 0.208303   0.20371    0.683298   0.789772  0.998303\n",
       " 0.602538   0.688694   0.592706   0.956799  0.387812\n",
       " 0.89582    0.381556   0.540293   0.74742   0.63726\n",
       " 0.856449   0.12103    0.197634   0.117534  0.20835\n",
       " 0.0110809  0.945884   0.813116   0.076386  0.479363\n",
       " 0.950907   0.756514   0.14121    0.468356  0.481207\n",
       " ⋮                                          \n",
       " 0.385358   0.674331   0.931878   0.908239  0.0868704\n",
       " 0.503023   0.265352   0.348375   0.565287  0.659756\n",
       " 0.456216   0.370756   0.375282   0.948623  0.70949\n",
       " 0.213703   0.750846   0.864589   0.723762  0.924395\n",
       " 0.664843   0.905079   0.124247   0.971126  0.312581\n",
       " 0.0796728  0.447461   0.889741   0.819642  0.285519\n",
       " 0.692348   0.777582   0.03893    0.556668  0.479168\n",
       " 0.933535   0.959485   0.3716     0.426211  0.791009\n",
       " 0.25941    0.339487   0.196062   0.667925  0.584106"
      ]
     },
     "metadata": {},
     "output_type": "display_data"
    }
   ],
   "source": [
    "using Neighborhood\n",
    "using StateSpaceSets\n",
    "using BenchmarkTools\n",
    "z = Dataset(rand(10000, 5))"
   ]
  },
  {
   "cell_type": "code",
   "execution_count": 37,
   "metadata": {},
   "outputs": [
    {
     "name": "stdout",
     "output_type": "stream",
     "text": [
      "  14.015 ms (20005 allocations: 2.29 MiB)\n"
     ]
    }
   ],
   "source": [
    "libsize = 100\n",
    "kdtree = NearestNeighbors.KDTree(z.data, Euclidean());\n",
    "D = StateSpaceSets.dimension(z) + 1\n",
    "t = Theiler(0)\n",
    "NearestNeighbors.knn(kdtree, z.data, D);\n",
    "@btime nnidsx, ds = NearestNeighbors.knn(kdtree, $(z.data), D);"
   ]
  }
 ],
 "metadata": {
  "kernelspec": {
   "display_name": "Julia 1.8.0",
   "language": "julia",
   "name": "julia-1.8"
  },
  "language_info": {
   "file_extension": ".jl",
   "mimetype": "application/julia",
   "name": "julia",
   "version": "1.8.0"
  },
  "orig_nbformat": 4
 },
 "nbformat": 4,
 "nbformat_minor": 2
}
